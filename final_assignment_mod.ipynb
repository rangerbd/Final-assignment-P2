{
 "cells": [
  {
   "cell_type": "markdown",
   "metadata": {},
   "source": [
    "<h1># Part 1: Loading datasets, cleaning and joining datasets</h1>"
   ]
  },
  {
   "cell_type": "markdown",
   "metadata": {},
   "source": [
    "<h3>1.1 Loading Libraries</h3>"
   ]
  },
  {
   "cell_type": "code",
   "execution_count": 179,
   "metadata": {},
   "outputs": [],
   "source": [
    "import pandas as pd\n",
    "import os\n",
    "import yaml\n",
    "import matplotlib.pyplot as plt\n",
    "import matplotlib.dates as mdates\n",
    "import numpy as np\n",
    "import seaborn as sns\n",
    "import plotly.graph_objs as go\n",
    "from ipywidgets import interact, IntSlider\n",
    "import plotly.express as px"
   ]
  },
  {
   "cell_type": "markdown",
   "metadata": {},
   "source": [
    "<h3>1.2 Loading Datasets</h3>"
   ]
  },
  {
   "cell_type": "code",
   "execution_count": 180,
   "metadata": {},
   "outputs": [],
   "source": [
    "def get_config():\n",
    "    with open(\"config.yaml\", \"r\") as my_config:\n",
    "        config = yaml.safe_load(my_config)\n",
    "    return config\n",
    "config = get_config()\n",
    "        \n",
    "df_consumption = pd.read_csv(config['consumption'])\n",
    "df_death = pd.read_csv(config['death'])\n",
    "df_population = pd.read_csv(config['population'])\n"
   ]
  },
  {
   "cell_type": "markdown",
   "metadata": {},
   "source": [
    "# Data Inspetion"
   ]
  },
  {
   "cell_type": "code",
   "execution_count": 181,
   "metadata": {},
   "outputs": [
    {
     "name": "stdout",
     "output_type": "stream",
     "text": [
      "The types of df_consumption columns\n",
      "Entity                                                                                                   object\n",
      "Code                                                                                                     object\n",
      "Year                                                                                                      int64\n",
      "Total alcohol consumption per capita (liters of pure alcohol, projected estimates, 15+ years of age)    float64\n",
      "dtype: object\n",
      "\n",
      "The types of df_death columns\n",
      "Country                                                                                                                 object\n",
      "Code                                                                                                                    object\n",
      "Year                                                                                                                     int64\n",
      "Deaths that are from all causes attributed to high systolic blood pressure, in both sexes aged all ages                float64\n",
      "Deaths that are from all causes attributed to diet high in sodium, in both sexes aged all ages                         float64\n",
      "Deaths that are from all causes attributed to diet low in whole grains, in both sexes aged all ages                    float64\n",
      "Deaths that are from all causes attributed to alcohol use, in both sexes aged all ages                                 float64\n",
      "Deaths that are from all causes attributed to diet low in fruits, in both sexes aged all ages                          float64\n",
      "Deaths that are from all causes attributed to unsafe water source, in both sexes aged all ages                         float64\n",
      "Deaths that are from all causes attributed to secondhand smoke, in both sexes aged all ages                            float64\n",
      "Deaths that are from all causes attributed to low birth weight, in both sexes aged all ages                            float64\n",
      "Deaths that are from all causes attributed to child wasting, in both sexes aged all ages                               float64\n",
      "Deaths that are from all causes attributed to unsafe sex, in both sexes aged all ages                                  float64\n",
      "Deaths that are from all causes attributed to diet low in nuts and seeds, in both sexes aged all ages                  float64\n",
      "Deaths that are from all causes attributed to household air pollution from solid fuels, in both sexes aged all ages    float64\n",
      "Deaths that are from all causes attributed to diet low in vegetables, in both sexes aged all ages                      float64\n",
      "Deaths that are from all causes attributed to smoking, in both sexes aged all ages                                     float64\n",
      "Deaths that are from all causes attributed to high fasting plasma glucose, in both sexes aged all ages                 float64\n",
      "Deaths that are from all causes attributed to air pollution, in both sexes aged all ages                               float64\n",
      "Deaths that are from all causes attributed to high body-mass index, in both sexes aged all ages                        float64\n",
      "Deaths that are from all causes attributed to unsafe sanitation, in both sexes aged all ages                           float64\n",
      "Deaths that are from all causes attributed to drug use, in both sexes aged all ages                                    float64\n",
      "Deaths that are from all causes attributed to low bone mineral density, in both sexes aged all ages                    float64\n",
      "Deaths that are from all causes attributed to vitamin a deficiency, in both sexes aged all ages                        float64\n",
      "Deaths that are from all causes attributed to child stunting, in both sexes aged all ages                              float64\n",
      "Deaths that are from all causes attributed to non-exclusive breastfeeding, in both sexes aged all ages                 float64\n",
      "Deaths that are from all causes attributed to iron deficiency, in both sexes aged all ages                             float64\n",
      "Deaths that are from all causes attributed to ambient particulate matter pollution, in both sexes aged all ages        float64\n",
      "Deaths that are from all causes attributed to low physical activity, in both sexes aged all ages                       float64\n",
      "Deaths that are from all causes attributed to no access to handwashing facility, in both sexes aged all ages           float64\n",
      "Deaths that are from all causes attributed to high ldl cholesterol, in both sexes aged all ages                        float64\n",
      "dtype: object\n",
      "\n",
      "The types of df_death columns\n",
      "Year                 int64\n",
      "Country             object\n",
      "Total Population     int64\n",
      "dtype: object\n",
      "Entity                                                                                                   0\n",
      "Code                                                                                                    65\n",
      "Year                                                                                                     0\n",
      "Total alcohol consumption per capita (liters of pure alcohol, projected estimates, 15+ years of age)     0\n",
      "dtype: int64\n",
      "Country                                                                                                                  0\n",
      "Code                                                                                                                   690\n",
      "Year                                                                                                                     0\n",
      "Deaths that are from all causes attributed to high systolic blood pressure, in both sexes aged all ages                  0\n",
      "Deaths that are from all causes attributed to diet high in sodium, in both sexes aged all ages                           0\n",
      "Deaths that are from all causes attributed to diet low in whole grains, in both sexes aged all ages                      0\n",
      "Deaths that are from all causes attributed to alcohol use, in both sexes aged all ages                                   0\n",
      "Deaths that are from all causes attributed to diet low in fruits, in both sexes aged all ages                            0\n",
      "Deaths that are from all causes attributed to unsafe water source, in both sexes aged all ages                           0\n",
      "Deaths that are from all causes attributed to secondhand smoke, in both sexes aged all ages                              0\n",
      "Deaths that are from all causes attributed to low birth weight, in both sexes aged all ages                              0\n",
      "Deaths that are from all causes attributed to child wasting, in both sexes aged all ages                                 0\n",
      "Deaths that are from all causes attributed to unsafe sex, in both sexes aged all ages                                    0\n",
      "Deaths that are from all causes attributed to diet low in nuts and seeds, in both sexes aged all ages                    0\n",
      "Deaths that are from all causes attributed to household air pollution from solid fuels, in both sexes aged all ages      0\n",
      "Deaths that are from all causes attributed to diet low in vegetables, in both sexes aged all ages                        0\n",
      "Deaths that are from all causes attributed to smoking, in both sexes aged all ages                                       0\n",
      "Deaths that are from all causes attributed to high fasting plasma glucose, in both sexes aged all ages                   0\n",
      "Deaths that are from all causes attributed to air pollution, in both sexes aged all ages                                 0\n",
      "Deaths that are from all causes attributed to high body-mass index, in both sexes aged all ages                          0\n",
      "Deaths that are from all causes attributed to unsafe sanitation, in both sexes aged all ages                             0\n",
      "Deaths that are from all causes attributed to drug use, in both sexes aged all ages                                      0\n",
      "Deaths that are from all causes attributed to low bone mineral density, in both sexes aged all ages                      0\n",
      "Deaths that are from all causes attributed to vitamin a deficiency, in both sexes aged all ages                          0\n",
      "Deaths that are from all causes attributed to child stunting, in both sexes aged all ages                                0\n",
      "Deaths that are from all causes attributed to non-exclusive breastfeeding, in both sexes aged all ages                   0\n",
      "Deaths that are from all causes attributed to iron deficiency, in both sexes aged all ages                               0\n",
      "Deaths that are from all causes attributed to ambient particulate matter pollution, in both sexes aged all ages          0\n",
      "Deaths that are from all causes attributed to low physical activity, in both sexes aged all ages                         0\n",
      "Deaths that are from all causes attributed to no access to handwashing facility, in both sexes aged all ages             0\n",
      "Deaths that are from all causes attributed to high ldl cholesterol, in both sexes aged all ages                          0\n",
      "dtype: int64\n",
      "Year                0\n",
      "Country             0\n",
      "Total Population    0\n",
      "dtype: int64\n"
     ]
    }
   ],
   "source": [
    "# NOTE: ADD MORE INSPECTION PARTS TO THIS FUNCTIONS. TRY TO SEE ALL THE ASPECTS OF YOUR DATASETS\n",
    "# ADD DUPLICATIONS, The number of datapoints per country both for alcohol consumption and death rate.\n",
    "# The number of the countries you have\n",
    "def df_inspetion1(df_consumption, df_death, df_population):\n",
    "\n",
    "    # Data Types\n",
    "    print(f'The types of df_consumption columns\\n{df_consumption.dtypes}')\n",
    "    print(f'\\nThe types of df_death columns\\n{df_death.dtypes}')\n",
    "    print(f'\\nThe types of df_death columns\\n{df_population.dtypes}')\n",
    "\n",
    "    # Check for missing data\n",
    "    print(df_consumption.isnull().sum())\n",
    "    print(df_death.isnull().sum())\n",
    "    print(df_population.isnull().sum())\n",
    "\n",
    "\n",
    "df_inspetion1(df_consumption, df_death, df_population)   "
   ]
  },
  {
   "cell_type": "markdown",
   "metadata": {},
   "source": [
    "# Explain why you should drop Nan values's row. (if you decided to not investigate egions and continents)\n",
    "# Put the ispection part inside inspection functions"
   ]
  },
  {
   "cell_type": "code",
   "execution_count": 182,
   "metadata": {},
   "outputs": [
    {
     "data": {
      "text/plain": [
       "20.5"
      ]
     },
     "execution_count": 182,
     "metadata": {},
     "output_type": "execute_result"
    }
   ],
   "source": [
    "df_consumption['Total alcohol consumption per capita (liters of pure alcohol, projected estimates, 15+ years of age)'].max()"
   ]
  },
  {
   "cell_type": "markdown",
   "metadata": {},
   "source": [
    "<h3>1.3: Data Cleaning</h3> \n",
    "\n",
    "Put everything inside the function in a logical manner."
   ]
  },
  {
   "cell_type": "code",
   "execution_count": 183,
   "metadata": {},
   "outputs": [],
   "source": [
    "# Remove rows with NaN values (EXPLANATION)\n",
    "\n",
    "df_consumption = df_consumption.dropna()\n",
    "\n",
    "df_death = df_death.dropna()\n"
   ]
  },
  {
   "cell_type": "code",
   "execution_count": 184,
   "metadata": {},
   "outputs": [],
   "source": [
    "#Check for duplicates across all columns, if duplicates found, delete one row\n",
    "df_duplicate_consumption = df_consumption[df_consumption.duplicated()]\n",
    "df_duplicate_death = df_death[df_death.duplicated()]\n",
    "df_duplicate_population = df_population[df_population.duplicated()]\n",
    "\n",
    "# Remove duplicate rows\n",
    "df_consumption = df_consumption.drop_duplicates()\n",
    "df_death = df_death.drop_duplicates()\n",
    "df_population = df_population.drop_duplicates()\n",
    "\n",
    "# Ensure 'Year' is of integer type\n",
    "df_consumption['Year'] = df_consumption['Year'].astype(int)\n",
    "df_death['Year'] = df_death['Year'].astype(int)\n",
    "df_population['Year'] = df_population['Year'].astype(int)"
   ]
  },
  {
   "cell_type": "code",
   "execution_count": 185,
   "metadata": {},
   "outputs": [],
   "source": [
    "#Rename the Title Entity to Country\n",
    "df_consumption.rename(columns = {'Entity':'Country','Total alcohol consumption per capita (liters of pure alcohol, projected estimates, 15+ years of age)':'Alchohol consumption'\n",
    "                                 },inplace = True)\n",
    "df_consumption\n",
    "#Rename the Title Entity to Country\n",
    "df_death.rename(columns={'Entity':'Country','Deaths that are from all causes attributed to alcohol use, in both sexes aged all ages':'Deaths due to Alchohol'},inplace = True)\n",
    "#df_death"
   ]
  },
  {
   "cell_type": "code",
   "execution_count": 186,
   "metadata": {},
   "outputs": [
    {
     "data": {
      "text/html": [
       "<div>\n",
       "<style scoped>\n",
       "    .dataframe tbody tr th:only-of-type {\n",
       "        vertical-align: middle;\n",
       "    }\n",
       "\n",
       "    .dataframe tbody tr th {\n",
       "        vertical-align: top;\n",
       "    }\n",
       "\n",
       "    .dataframe thead th {\n",
       "        text-align: right;\n",
       "    }\n",
       "</style>\n",
       "<table border=\"1\" class=\"dataframe\">\n",
       "  <thead>\n",
       "    <tr style=\"text-align: right;\">\n",
       "      <th></th>\n",
       "      <th>Country</th>\n",
       "      <th>Code</th>\n",
       "      <th>Year</th>\n",
       "      <th>Deaths that are from all causes attributed to high systolic blood pressure, in both sexes aged all ages</th>\n",
       "      <th>Deaths that are from all causes attributed to diet high in sodium, in both sexes aged all ages</th>\n",
       "      <th>Deaths that are from all causes attributed to diet low in whole grains, in both sexes aged all ages</th>\n",
       "      <th>Deaths due to Alchohol</th>\n",
       "      <th>Deaths that are from all causes attributed to diet low in fruits, in both sexes aged all ages</th>\n",
       "      <th>Deaths that are from all causes attributed to unsafe water source, in both sexes aged all ages</th>\n",
       "      <th>Deaths that are from all causes attributed to secondhand smoke, in both sexes aged all ages</th>\n",
       "      <th>...</th>\n",
       "      <th>Deaths that are from all causes attributed to drug use, in both sexes aged all ages</th>\n",
       "      <th>Deaths that are from all causes attributed to low bone mineral density, in both sexes aged all ages</th>\n",
       "      <th>Deaths that are from all causes attributed to vitamin a deficiency, in both sexes aged all ages</th>\n",
       "      <th>Deaths that are from all causes attributed to child stunting, in both sexes aged all ages</th>\n",
       "      <th>Deaths that are from all causes attributed to non-exclusive breastfeeding, in both sexes aged all ages</th>\n",
       "      <th>Deaths that are from all causes attributed to iron deficiency, in both sexes aged all ages</th>\n",
       "      <th>Deaths that are from all causes attributed to ambient particulate matter pollution, in both sexes aged all ages</th>\n",
       "      <th>Deaths that are from all causes attributed to low physical activity, in both sexes aged all ages</th>\n",
       "      <th>Deaths that are from all causes attributed to no access to handwashing facility, in both sexes aged all ages</th>\n",
       "      <th>Deaths that are from all causes attributed to high ldl cholesterol, in both sexes aged all ages</th>\n",
       "    </tr>\n",
       "  </thead>\n",
       "  <tbody>\n",
       "    <tr>\n",
       "      <th>10</th>\n",
       "      <td>Afghanistan</td>\n",
       "      <td>AFG</td>\n",
       "      <td>2000</td>\n",
       "      <td>29998.512</td>\n",
       "      <td>1259.5785</td>\n",
       "      <td>8328.075</td>\n",
       "      <td>427.25616</td>\n",
       "      <td>4174.3380</td>\n",
       "      <td>9941.9700</td>\n",
       "      <td>6227.1470</td>\n",
       "      <td>...</td>\n",
       "      <td>311.84225</td>\n",
       "      <td>430.62665</td>\n",
       "      <td>3855.2944</td>\n",
       "      <td>12964.9210</td>\n",
       "      <td>4194.9717</td>\n",
       "      <td>897.32550</td>\n",
       "      <td>3541.8700</td>\n",
       "      <td>3013.0520</td>\n",
       "      <td>8233.2160</td>\n",
       "      <td>14938.048</td>\n",
       "    </tr>\n",
       "    <tr>\n",
       "      <th>15</th>\n",
       "      <td>Afghanistan</td>\n",
       "      <td>AFG</td>\n",
       "      <td>2005</td>\n",
       "      <td>30089.117</td>\n",
       "      <td>1276.1282</td>\n",
       "      <td>8415.446</td>\n",
       "      <td>451.53430</td>\n",
       "      <td>4165.9834</td>\n",
       "      <td>10118.1620</td>\n",
       "      <td>6272.2593</td>\n",
       "      <td>...</td>\n",
       "      <td>390.27414</td>\n",
       "      <td>454.32657</td>\n",
       "      <td>1243.2245</td>\n",
       "      <td>8380.3150</td>\n",
       "      <td>3518.7990</td>\n",
       "      <td>1006.88530</td>\n",
       "      <td>3732.9456</td>\n",
       "      <td>3152.8270</td>\n",
       "      <td>8033.1580</td>\n",
       "      <td>15250.393</td>\n",
       "    </tr>\n",
       "    <tr>\n",
       "      <th>20</th>\n",
       "      <td>Afghanistan</td>\n",
       "      <td>AFG</td>\n",
       "      <td>2010</td>\n",
       "      <td>30352.130</td>\n",
       "      <td>1247.5607</td>\n",
       "      <td>8511.792</td>\n",
       "      <td>491.64770</td>\n",
       "      <td>4022.3460</td>\n",
       "      <td>6020.6436</td>\n",
       "      <td>5714.1074</td>\n",
       "      <td>...</td>\n",
       "      <td>463.43330</td>\n",
       "      <td>515.36005</td>\n",
       "      <td>1413.2369</td>\n",
       "      <td>6192.1600</td>\n",
       "      <td>2661.0232</td>\n",
       "      <td>980.61330</td>\n",
       "      <td>4922.3520</td>\n",
       "      <td>3344.4604</td>\n",
       "      <td>5535.3350</td>\n",
       "      <td>15760.845</td>\n",
       "    </tr>\n",
       "    <tr>\n",
       "      <th>25</th>\n",
       "      <td>Afghanistan</td>\n",
       "      <td>AFG</td>\n",
       "      <td>2015</td>\n",
       "      <td>32639.936</td>\n",
       "      <td>1301.6910</td>\n",
       "      <td>9228.382</td>\n",
       "      <td>521.93640</td>\n",
       "      <td>4163.0680</td>\n",
       "      <td>4796.1630</td>\n",
       "      <td>5785.0560</td>\n",
       "      <td>...</td>\n",
       "      <td>566.39777</td>\n",
       "      <td>589.87384</td>\n",
       "      <td>697.5783</td>\n",
       "      <td>4205.5890</td>\n",
       "      <td>2310.9731</td>\n",
       "      <td>832.58203</td>\n",
       "      <td>7675.1245</td>\n",
       "      <td>3694.9897</td>\n",
       "      <td>4693.1943</td>\n",
       "      <td>17378.768</td>\n",
       "    </tr>\n",
       "    <tr>\n",
       "      <th>28</th>\n",
       "      <td>Afghanistan</td>\n",
       "      <td>AFG</td>\n",
       "      <td>2018</td>\n",
       "      <td>35262.600</td>\n",
       "      <td>1400.2490</td>\n",
       "      <td>10085.003</td>\n",
       "      <td>574.54584</td>\n",
       "      <td>4486.7295</td>\n",
       "      <td>3993.8105</td>\n",
       "      <td>5987.4893</td>\n",
       "      <td>...</td>\n",
       "      <td>673.01670</td>\n",
       "      <td>642.23627</td>\n",
       "      <td>608.2867</td>\n",
       "      <td>3535.8152</td>\n",
       "      <td>1881.7853</td>\n",
       "      <td>778.18884</td>\n",
       "      <td>8131.1520</td>\n",
       "      <td>4021.1040</td>\n",
       "      <td>4077.5671</td>\n",
       "      <td>19182.750</td>\n",
       "    </tr>\n",
       "  </tbody>\n",
       "</table>\n",
       "<p>5 rows × 31 columns</p>\n",
       "</div>"
      ],
      "text/plain": [
       "        Country Code  Year  \\\n",
       "10  Afghanistan  AFG  2000   \n",
       "15  Afghanistan  AFG  2005   \n",
       "20  Afghanistan  AFG  2010   \n",
       "25  Afghanistan  AFG  2015   \n",
       "28  Afghanistan  AFG  2018   \n",
       "\n",
       "    Deaths that are from all causes attributed to high systolic blood pressure, in both sexes aged all ages  \\\n",
       "10                                          29998.512                                                         \n",
       "15                                          30089.117                                                         \n",
       "20                                          30352.130                                                         \n",
       "25                                          32639.936                                                         \n",
       "28                                          35262.600                                                         \n",
       "\n",
       "    Deaths that are from all causes attributed to diet high in sodium, in both sexes aged all ages  \\\n",
       "10                                          1259.5785                                                \n",
       "15                                          1276.1282                                                \n",
       "20                                          1247.5607                                                \n",
       "25                                          1301.6910                                                \n",
       "28                                          1400.2490                                                \n",
       "\n",
       "    Deaths that are from all causes attributed to diet low in whole grains, in both sexes aged all ages  \\\n",
       "10                                           8328.075                                                     \n",
       "15                                           8415.446                                                     \n",
       "20                                           8511.792                                                     \n",
       "25                                           9228.382                                                     \n",
       "28                                          10085.003                                                     \n",
       "\n",
       "    Deaths due to Alchohol  \\\n",
       "10               427.25616   \n",
       "15               451.53430   \n",
       "20               491.64770   \n",
       "25               521.93640   \n",
       "28               574.54584   \n",
       "\n",
       "    Deaths that are from all causes attributed to diet low in fruits, in both sexes aged all ages  \\\n",
       "10                                          4174.3380                                               \n",
       "15                                          4165.9834                                               \n",
       "20                                          4022.3460                                               \n",
       "25                                          4163.0680                                               \n",
       "28                                          4486.7295                                               \n",
       "\n",
       "    Deaths that are from all causes attributed to unsafe water source, in both sexes aged all ages  \\\n",
       "10                                          9941.9700                                                \n",
       "15                                         10118.1620                                                \n",
       "20                                          6020.6436                                                \n",
       "25                                          4796.1630                                                \n",
       "28                                          3993.8105                                                \n",
       "\n",
       "    Deaths that are from all causes attributed to secondhand smoke, in both sexes aged all ages  \\\n",
       "10                                          6227.1470                                             \n",
       "15                                          6272.2593                                             \n",
       "20                                          5714.1074                                             \n",
       "25                                          5785.0560                                             \n",
       "28                                          5987.4893                                             \n",
       "\n",
       "    ...  \\\n",
       "10  ...   \n",
       "15  ...   \n",
       "20  ...   \n",
       "25  ...   \n",
       "28  ...   \n",
       "\n",
       "    Deaths that are from all causes attributed to drug use, in both sexes aged all ages  \\\n",
       "10                                          311.84225                                     \n",
       "15                                          390.27414                                     \n",
       "20                                          463.43330                                     \n",
       "25                                          566.39777                                     \n",
       "28                                          673.01670                                     \n",
       "\n",
       "    Deaths that are from all causes attributed to low bone mineral density, in both sexes aged all ages  \\\n",
       "10                                          430.62665                                                     \n",
       "15                                          454.32657                                                     \n",
       "20                                          515.36005                                                     \n",
       "25                                          589.87384                                                     \n",
       "28                                          642.23627                                                     \n",
       "\n",
       "    Deaths that are from all causes attributed to vitamin a deficiency, in both sexes aged all ages  \\\n",
       "10                                          3855.2944                                                 \n",
       "15                                          1243.2245                                                 \n",
       "20                                          1413.2369                                                 \n",
       "25                                           697.5783                                                 \n",
       "28                                           608.2867                                                 \n",
       "\n",
       "    Deaths that are from all causes attributed to child stunting, in both sexes aged all ages  \\\n",
       "10                                         12964.9210                                           \n",
       "15                                          8380.3150                                           \n",
       "20                                          6192.1600                                           \n",
       "25                                          4205.5890                                           \n",
       "28                                          3535.8152                                           \n",
       "\n",
       "    Deaths that are from all causes attributed to non-exclusive breastfeeding, in both sexes aged all ages  \\\n",
       "10                                          4194.9717                                                        \n",
       "15                                          3518.7990                                                        \n",
       "20                                          2661.0232                                                        \n",
       "25                                          2310.9731                                                        \n",
       "28                                          1881.7853                                                        \n",
       "\n",
       "    Deaths that are from all causes attributed to iron deficiency, in both sexes aged all ages  \\\n",
       "10                                          897.32550                                            \n",
       "15                                         1006.88530                                            \n",
       "20                                          980.61330                                            \n",
       "25                                          832.58203                                            \n",
       "28                                          778.18884                                            \n",
       "\n",
       "    Deaths that are from all causes attributed to ambient particulate matter pollution, in both sexes aged all ages  \\\n",
       "10                                          3541.8700                                                                 \n",
       "15                                          3732.9456                                                                 \n",
       "20                                          4922.3520                                                                 \n",
       "25                                          7675.1245                                                                 \n",
       "28                                          8131.1520                                                                 \n",
       "\n",
       "    Deaths that are from all causes attributed to low physical activity, in both sexes aged all ages  \\\n",
       "10                                          3013.0520                                                  \n",
       "15                                          3152.8270                                                  \n",
       "20                                          3344.4604                                                  \n",
       "25                                          3694.9897                                                  \n",
       "28                                          4021.1040                                                  \n",
       "\n",
       "    Deaths that are from all causes attributed to no access to handwashing facility, in both sexes aged all ages  \\\n",
       "10                                          8233.2160                                                              \n",
       "15                                          8033.1580                                                              \n",
       "20                                          5535.3350                                                              \n",
       "25                                          4693.1943                                                              \n",
       "28                                          4077.5671                                                              \n",
       "\n",
       "    Deaths that are from all causes attributed to high ldl cholesterol, in both sexes aged all ages  \n",
       "10                                          14938.048                                                \n",
       "15                                          15250.393                                                \n",
       "20                                          15760.845                                                \n",
       "25                                          17378.768                                                \n",
       "28                                          19182.750                                                \n",
       "\n",
       "[5 rows x 31 columns]"
      ]
     },
     "execution_count": 186,
     "metadata": {},
     "output_type": "execute_result"
    }
   ],
   "source": [
    "#filter related rows from each datasets(for merging 3 datasets based on Year and country I had to remove years except 2000,2005,2010,2015,2018)\n",
    "df_death = df_death[df_death['Year'].isin([2000, 2005, 2010, 2015, 2018])]\n",
    "df_death.head()\n"
   ]
  },
  {
   "cell_type": "code",
   "execution_count": 187,
   "metadata": {},
   "outputs": [],
   "source": [
    "\n",
    "new_columns = ['Country','Code','Year','Deaths due to Alchohol']\n",
    "\n",
    "df_new_death = df_death[new_columns]\n",
    "\n",
    "df_new_death.to_csv('df_new_death.csv', index=False)"
   ]
  },
  {
   "cell_type": "code",
   "execution_count": 188,
   "metadata": {},
   "outputs": [],
   "source": [
    "df_new_death = df_new_death.reset_index().drop(columns='index')\n",
    "df_death = df_death.reset_index().drop(columns='index')\n",
    "df_consumption = df_consumption.reset_index().drop(columns='index')"
   ]
  },
  {
   "cell_type": "markdown",
   "metadata": {},
   "source": [
    "<h3>1.4: Merging Datasets</h3>\n",
    "\n",
    "Put eveythig in functions\n",
    "\n",
    "MOre explanation"
   ]
  },
  {
   "cell_type": "code",
   "execution_count": 189,
   "metadata": {},
   "outputs": [
    {
     "data": {
      "text/html": [
       "<div>\n",
       "<style scoped>\n",
       "    .dataframe tbody tr th:only-of-type {\n",
       "        vertical-align: middle;\n",
       "    }\n",
       "\n",
       "    .dataframe tbody tr th {\n",
       "        vertical-align: top;\n",
       "    }\n",
       "\n",
       "    .dataframe thead th {\n",
       "        text-align: right;\n",
       "    }\n",
       "</style>\n",
       "<table border=\"1\" class=\"dataframe\">\n",
       "  <thead>\n",
       "    <tr style=\"text-align: right;\">\n",
       "      <th></th>\n",
       "      <th>Country</th>\n",
       "      <th>Code</th>\n",
       "      <th>Year</th>\n",
       "      <th>Alchohol consumption</th>\n",
       "      <th>Deaths due to Alchohol</th>\n",
       "    </tr>\n",
       "  </thead>\n",
       "  <tbody>\n",
       "    <tr>\n",
       "      <th>0</th>\n",
       "      <td>Afghanistan</td>\n",
       "      <td>AFG</td>\n",
       "      <td>2010</td>\n",
       "      <td>0.21</td>\n",
       "      <td>491.64770</td>\n",
       "    </tr>\n",
       "    <tr>\n",
       "      <th>1</th>\n",
       "      <td>Afghanistan</td>\n",
       "      <td>AFG</td>\n",
       "      <td>2015</td>\n",
       "      <td>0.21</td>\n",
       "      <td>521.93640</td>\n",
       "    </tr>\n",
       "    <tr>\n",
       "      <th>2</th>\n",
       "      <td>Afghanistan</td>\n",
       "      <td>AFG</td>\n",
       "      <td>2018</td>\n",
       "      <td>0.21</td>\n",
       "      <td>574.54584</td>\n",
       "    </tr>\n",
       "    <tr>\n",
       "      <th>3</th>\n",
       "      <td>Albania</td>\n",
       "      <td>ALB</td>\n",
       "      <td>2000</td>\n",
       "      <td>6.57</td>\n",
       "      <td>511.38745</td>\n",
       "    </tr>\n",
       "    <tr>\n",
       "      <th>4</th>\n",
       "      <td>Albania</td>\n",
       "      <td>ALB</td>\n",
       "      <td>2005</td>\n",
       "      <td>7.65</td>\n",
       "      <td>640.57010</td>\n",
       "    </tr>\n",
       "  </tbody>\n",
       "</table>\n",
       "</div>"
      ],
      "text/plain": [
       "       Country Code  Year  Alchohol consumption  Deaths due to Alchohol\n",
       "0  Afghanistan  AFG  2010                  0.21               491.64770\n",
       "1  Afghanistan  AFG  2015                  0.21               521.93640\n",
       "2  Afghanistan  AFG  2018                  0.21               574.54584\n",
       "3      Albania  ALB  2000                  6.57               511.38745\n",
       "4      Albania  ALB  2005                  7.65               640.57010"
      ]
     },
     "execution_count": 189,
     "metadata": {},
     "output_type": "execute_result"
    }
   ],
   "source": [
    "#merge 2 datasets(Merged BASED on Country and Year column)\n",
    "df_merge = pd.merge(df_consumption,df_new_death, on=['Country','Year', 'Code'], how='inner')\n",
    "df_merge.head()"
   ]
  },
  {
   "cell_type": "code",
   "execution_count": 190,
   "metadata": {},
   "outputs": [
    {
     "data": {
      "text/html": [
       "<div>\n",
       "<style scoped>\n",
       "    .dataframe tbody tr th:only-of-type {\n",
       "        vertical-align: middle;\n",
       "    }\n",
       "\n",
       "    .dataframe tbody tr th {\n",
       "        vertical-align: top;\n",
       "    }\n",
       "\n",
       "    .dataframe thead th {\n",
       "        text-align: right;\n",
       "    }\n",
       "</style>\n",
       "<table border=\"1\" class=\"dataframe\">\n",
       "  <thead>\n",
       "    <tr style=\"text-align: right;\">\n",
       "      <th></th>\n",
       "      <th>Country</th>\n",
       "      <th>Code</th>\n",
       "      <th>Year</th>\n",
       "      <th>Alchohol consumption</th>\n",
       "      <th>Deaths due to Alchohol</th>\n",
       "      <th>Total Population</th>\n",
       "    </tr>\n",
       "  </thead>\n",
       "  <tbody>\n",
       "    <tr>\n",
       "      <th>0</th>\n",
       "      <td>Afghanistan</td>\n",
       "      <td>AFG</td>\n",
       "      <td>2010</td>\n",
       "      <td>0.21</td>\n",
       "      <td>491.64770</td>\n",
       "      <td>27803000</td>\n",
       "    </tr>\n",
       "    <tr>\n",
       "      <th>1</th>\n",
       "      <td>Afghanistan</td>\n",
       "      <td>AFG</td>\n",
       "      <td>2015</td>\n",
       "      <td>0.21</td>\n",
       "      <td>521.93640</td>\n",
       "      <td>33361000</td>\n",
       "    </tr>\n",
       "    <tr>\n",
       "      <th>2</th>\n",
       "      <td>Afghanistan</td>\n",
       "      <td>AFG</td>\n",
       "      <td>2018</td>\n",
       "      <td>0.21</td>\n",
       "      <td>574.54584</td>\n",
       "      <td>36161000</td>\n",
       "    </tr>\n",
       "    <tr>\n",
       "      <th>3</th>\n",
       "      <td>Albania</td>\n",
       "      <td>ALB</td>\n",
       "      <td>2000</td>\n",
       "      <td>6.57</td>\n",
       "      <td>511.38745</td>\n",
       "      <td>3196000</td>\n",
       "    </tr>\n",
       "    <tr>\n",
       "      <th>4</th>\n",
       "      <td>Albania</td>\n",
       "      <td>ALB</td>\n",
       "      <td>2005</td>\n",
       "      <td>7.65</td>\n",
       "      <td>640.57010</td>\n",
       "      <td>3047000</td>\n",
       "    </tr>\n",
       "    <tr>\n",
       "      <th>...</th>\n",
       "      <td>...</td>\n",
       "      <td>...</td>\n",
       "      <td>...</td>\n",
       "      <td>...</td>\n",
       "      <td>...</td>\n",
       "      <td>...</td>\n",
       "    </tr>\n",
       "    <tr>\n",
       "      <th>889</th>\n",
       "      <td>Zimbabwe</td>\n",
       "      <td>ZWE</td>\n",
       "      <td>2000</td>\n",
       "      <td>2.46</td>\n",
       "      <td>4209.50540</td>\n",
       "      <td>11791000</td>\n",
       "    </tr>\n",
       "    <tr>\n",
       "      <th>890</th>\n",
       "      <td>Zimbabwe</td>\n",
       "      <td>ZWE</td>\n",
       "      <td>2005</td>\n",
       "      <td>2.77</td>\n",
       "      <td>4486.24000</td>\n",
       "      <td>12196000</td>\n",
       "    </tr>\n",
       "    <tr>\n",
       "      <th>891</th>\n",
       "      <td>Zimbabwe</td>\n",
       "      <td>ZWE</td>\n",
       "      <td>2010</td>\n",
       "      <td>3.93</td>\n",
       "      <td>4939.37400</td>\n",
       "      <td>12753000</td>\n",
       "    </tr>\n",
       "    <tr>\n",
       "      <th>892</th>\n",
       "      <td>Zimbabwe</td>\n",
       "      <td>ZWE</td>\n",
       "      <td>2015</td>\n",
       "      <td>4.92</td>\n",
       "      <td>4853.71830</td>\n",
       "      <td>14006000</td>\n",
       "    </tr>\n",
       "    <tr>\n",
       "      <th>893</th>\n",
       "      <td>Zimbabwe</td>\n",
       "      <td>ZWE</td>\n",
       "      <td>2018</td>\n",
       "      <td>4.67</td>\n",
       "      <td>5044.16060</td>\n",
       "      <td>14900000</td>\n",
       "    </tr>\n",
       "  </tbody>\n",
       "</table>\n",
       "<p>894 rows × 6 columns</p>\n",
       "</div>"
      ],
      "text/plain": [
       "         Country Code  Year  Alchohol consumption  Deaths due to Alchohol  \\\n",
       "0    Afghanistan  AFG  2010                  0.21               491.64770   \n",
       "1    Afghanistan  AFG  2015                  0.21               521.93640   \n",
       "2    Afghanistan  AFG  2018                  0.21               574.54584   \n",
       "3        Albania  ALB  2000                  6.57               511.38745   \n",
       "4        Albania  ALB  2005                  7.65               640.57010   \n",
       "..           ...  ...   ...                   ...                     ...   \n",
       "889     Zimbabwe  ZWE  2000                  2.46              4209.50540   \n",
       "890     Zimbabwe  ZWE  2005                  2.77              4486.24000   \n",
       "891     Zimbabwe  ZWE  2010                  3.93              4939.37400   \n",
       "892     Zimbabwe  ZWE  2015                  4.92              4853.71830   \n",
       "893     Zimbabwe  ZWE  2018                  4.67              5044.16060   \n",
       "\n",
       "     Total Population  \n",
       "0            27803000  \n",
       "1            33361000  \n",
       "2            36161000  \n",
       "3             3196000  \n",
       "4             3047000  \n",
       "..                ...  \n",
       "889          11791000  \n",
       "890          12196000  \n",
       "891          12753000  \n",
       "892          14006000  \n",
       "893          14900000  \n",
       "\n",
       "[894 rows x 6 columns]"
      ]
     },
     "execution_count": 190,
     "metadata": {},
     "output_type": "execute_result"
    }
   ],
   "source": [
    "# Merge population dataset with the main dataset(to create Mortality for each individual country ,total population is needed)\n",
    "\n",
    "df = pd.merge(df_merge,df_population, on=['Country','Year'], how='inner')\n",
    "df"
   ]
  },
  {
   "cell_type": "code",
   "execution_count": 191,
   "metadata": {},
   "outputs": [
    {
     "data": {
      "text/html": [
       "<div>\n",
       "<style scoped>\n",
       "    .dataframe tbody tr th:only-of-type {\n",
       "        vertical-align: middle;\n",
       "    }\n",
       "\n",
       "    .dataframe tbody tr th {\n",
       "        vertical-align: top;\n",
       "    }\n",
       "\n",
       "    .dataframe thead th {\n",
       "        text-align: right;\n",
       "    }\n",
       "</style>\n",
       "<table border=\"1\" class=\"dataframe\">\n",
       "  <thead>\n",
       "    <tr style=\"text-align: right;\">\n",
       "      <th></th>\n",
       "      <th>Country</th>\n",
       "      <th>Year</th>\n",
       "      <th>Alchohol consumption</th>\n",
       "      <th>Deaths due to Alchohol</th>\n",
       "      <th>Total Population</th>\n",
       "    </tr>\n",
       "  </thead>\n",
       "  <tbody>\n",
       "    <tr>\n",
       "      <th>0</th>\n",
       "      <td>Afghanistan</td>\n",
       "      <td>2010</td>\n",
       "      <td>0.21</td>\n",
       "      <td>491.64770</td>\n",
       "      <td>27803000</td>\n",
       "    </tr>\n",
       "    <tr>\n",
       "      <th>1</th>\n",
       "      <td>Afghanistan</td>\n",
       "      <td>2015</td>\n",
       "      <td>0.21</td>\n",
       "      <td>521.93640</td>\n",
       "      <td>33361000</td>\n",
       "    </tr>\n",
       "    <tr>\n",
       "      <th>2</th>\n",
       "      <td>Afghanistan</td>\n",
       "      <td>2018</td>\n",
       "      <td>0.21</td>\n",
       "      <td>574.54584</td>\n",
       "      <td>36161000</td>\n",
       "    </tr>\n",
       "    <tr>\n",
       "      <th>3</th>\n",
       "      <td>Albania</td>\n",
       "      <td>2000</td>\n",
       "      <td>6.57</td>\n",
       "      <td>511.38745</td>\n",
       "      <td>3196000</td>\n",
       "    </tr>\n",
       "    <tr>\n",
       "      <th>4</th>\n",
       "      <td>Albania</td>\n",
       "      <td>2005</td>\n",
       "      <td>7.65</td>\n",
       "      <td>640.57010</td>\n",
       "      <td>3047000</td>\n",
       "    </tr>\n",
       "    <tr>\n",
       "      <th>...</th>\n",
       "      <td>...</td>\n",
       "      <td>...</td>\n",
       "      <td>...</td>\n",
       "      <td>...</td>\n",
       "      <td>...</td>\n",
       "    </tr>\n",
       "    <tr>\n",
       "      <th>889</th>\n",
       "      <td>Zimbabwe</td>\n",
       "      <td>2000</td>\n",
       "      <td>2.46</td>\n",
       "      <td>4209.50540</td>\n",
       "      <td>11791000</td>\n",
       "    </tr>\n",
       "    <tr>\n",
       "      <th>890</th>\n",
       "      <td>Zimbabwe</td>\n",
       "      <td>2005</td>\n",
       "      <td>2.77</td>\n",
       "      <td>4486.24000</td>\n",
       "      <td>12196000</td>\n",
       "    </tr>\n",
       "    <tr>\n",
       "      <th>891</th>\n",
       "      <td>Zimbabwe</td>\n",
       "      <td>2010</td>\n",
       "      <td>3.93</td>\n",
       "      <td>4939.37400</td>\n",
       "      <td>12753000</td>\n",
       "    </tr>\n",
       "    <tr>\n",
       "      <th>892</th>\n",
       "      <td>Zimbabwe</td>\n",
       "      <td>2015</td>\n",
       "      <td>4.92</td>\n",
       "      <td>4853.71830</td>\n",
       "      <td>14006000</td>\n",
       "    </tr>\n",
       "    <tr>\n",
       "      <th>893</th>\n",
       "      <td>Zimbabwe</td>\n",
       "      <td>2018</td>\n",
       "      <td>4.67</td>\n",
       "      <td>5044.16060</td>\n",
       "      <td>14900000</td>\n",
       "    </tr>\n",
       "  </tbody>\n",
       "</table>\n",
       "<p>894 rows × 5 columns</p>\n",
       "</div>"
      ],
      "text/plain": [
       "         Country  Year  Alchohol consumption  Deaths due to Alchohol  \\\n",
       "0    Afghanistan  2010                  0.21               491.64770   \n",
       "1    Afghanistan  2015                  0.21               521.93640   \n",
       "2    Afghanistan  2018                  0.21               574.54584   \n",
       "3        Albania  2000                  6.57               511.38745   \n",
       "4        Albania  2005                  7.65               640.57010   \n",
       "..           ...   ...                   ...                     ...   \n",
       "889     Zimbabwe  2000                  2.46              4209.50540   \n",
       "890     Zimbabwe  2005                  2.77              4486.24000   \n",
       "891     Zimbabwe  2010                  3.93              4939.37400   \n",
       "892     Zimbabwe  2015                  4.92              4853.71830   \n",
       "893     Zimbabwe  2018                  4.67              5044.16060   \n",
       "\n",
       "     Total Population  \n",
       "0            27803000  \n",
       "1            33361000  \n",
       "2            36161000  \n",
       "3             3196000  \n",
       "4             3047000  \n",
       "..                ...  \n",
       "889          11791000  \n",
       "890          12196000  \n",
       "891          12753000  \n",
       "892          14006000  \n",
       "893          14900000  \n",
       "\n",
       "[894 rows x 5 columns]"
      ]
     },
     "execution_count": 191,
     "metadata": {},
     "output_type": "execute_result"
    }
   ],
   "source": [
    "#remove Column name Code (as i already have the Country column so i dont need the code Column)\n",
    "\n",
    "df = df.drop(columns='Code')\n",
    "df"
   ]
  },
  {
   "cell_type": "code",
   "execution_count": 192,
   "metadata": {},
   "outputs": [
    {
     "data": {
      "text/html": [
       "<div>\n",
       "<style scoped>\n",
       "    .dataframe tbody tr th:only-of-type {\n",
       "        vertical-align: middle;\n",
       "    }\n",
       "\n",
       "    .dataframe tbody tr th {\n",
       "        vertical-align: top;\n",
       "    }\n",
       "\n",
       "    .dataframe thead th {\n",
       "        text-align: right;\n",
       "    }\n",
       "</style>\n",
       "<table border=\"1\" class=\"dataframe\">\n",
       "  <thead>\n",
       "    <tr style=\"text-align: right;\">\n",
       "      <th></th>\n",
       "      <th>Country</th>\n",
       "      <th>Year</th>\n",
       "      <th>Alchohol consumption</th>\n",
       "      <th>Deaths due to Alchohol</th>\n",
       "      <th>Total Population</th>\n",
       "    </tr>\n",
       "  </thead>\n",
       "  <tbody>\n",
       "    <tr>\n",
       "      <th>0</th>\n",
       "      <td>Afghanistan</td>\n",
       "      <td>2010</td>\n",
       "      <td>0.21</td>\n",
       "      <td>491.64770</td>\n",
       "      <td>27803000</td>\n",
       "    </tr>\n",
       "    <tr>\n",
       "      <th>1</th>\n",
       "      <td>Afghanistan</td>\n",
       "      <td>2015</td>\n",
       "      <td>0.21</td>\n",
       "      <td>521.93640</td>\n",
       "      <td>33361000</td>\n",
       "    </tr>\n",
       "    <tr>\n",
       "      <th>2</th>\n",
       "      <td>Afghanistan</td>\n",
       "      <td>2018</td>\n",
       "      <td>0.21</td>\n",
       "      <td>574.54584</td>\n",
       "      <td>36161000</td>\n",
       "    </tr>\n",
       "    <tr>\n",
       "      <th>3</th>\n",
       "      <td>Albania</td>\n",
       "      <td>2000</td>\n",
       "      <td>6.57</td>\n",
       "      <td>511.38745</td>\n",
       "      <td>3196000</td>\n",
       "    </tr>\n",
       "    <tr>\n",
       "      <th>4</th>\n",
       "      <td>Albania</td>\n",
       "      <td>2005</td>\n",
       "      <td>7.65</td>\n",
       "      <td>640.57010</td>\n",
       "      <td>3047000</td>\n",
       "    </tr>\n",
       "  </tbody>\n",
       "</table>\n",
       "</div>"
      ],
      "text/plain": [
       "       Country  Year  Alchohol consumption  Deaths due to Alchohol  \\\n",
       "0  Afghanistan  2010                  0.21               491.64770   \n",
       "1  Afghanistan  2015                  0.21               521.93640   \n",
       "2  Afghanistan  2018                  0.21               574.54584   \n",
       "3      Albania  2000                  6.57               511.38745   \n",
       "4      Albania  2005                  7.65               640.57010   \n",
       "\n",
       "   Total Population  \n",
       "0          27803000  \n",
       "1          33361000  \n",
       "2          36161000  \n",
       "3           3196000  \n",
       "4           3047000  "
      ]
     },
     "execution_count": 192,
     "metadata": {},
     "output_type": "execute_result"
    }
   ],
   "source": [
    "#remove NaN value\n",
    "df.dropna(how='any',inplace=True)\n",
    "df.head()"
   ]
  },
  {
   "cell_type": "code",
   "execution_count": 193,
   "metadata": {},
   "outputs": [],
   "source": [
    "#save dataset\n",
    "df.to_csv('df.csv')"
   ]
  },
  {
   "cell_type": "code",
   "execution_count": 194,
   "metadata": {},
   "outputs": [],
   "source": [
    "#Remove World from df because my search is based on country\n",
    "\n",
    "df = df[df[\"Country\"] != 'World']"
   ]
  },
  {
   "cell_type": "markdown",
   "metadata": {},
   "source": [
    "# Presenting section\n",
    "## Make it less hard-coded"
   ]
  },
  {
   "cell_type": "code",
   "execution_count": 195,
   "metadata": {},
   "outputs": [],
   "source": [
    "# Filter the dataset for each specified year\n",
    "def filtered_year(df, year):\n",
    "    return df[df['Year'] == year]\n",
    "\n"
   ]
  },
  {
   "cell_type": "code",
   "execution_count": 196,
   "metadata": {},
   "outputs": [
    {
     "data": {
      "image/png": "[encoded data removed]",
      "text/plain": [
       "<Figure size 1800x600 with 2 Axes>"
      ]
     },
     "metadata": {},
     "output_type": "display_data"
    }
   ],
   "source": [
    "# Calculate mean alcohol consumption and deaths for each year\n",
    "mean_consumption = {\n",
    "    2000: df_2000['Alchohol consumption'].mean(),\n",
    "    2005: df_2005['Alchohol consumption'].mean(),\n",
    "    2010: df_2010['Alchohol consumption'].mean(),\n",
    "    2015: df_2015['Alchohol consumption'].mean(),\n",
    "    2018: df_2018['Alchohol consumption'].mean()\n",
    "}\n",
    "\n",
    "mean_deaths = {\n",
    "    2000: df_2000['Deaths due to Alchohol'].mean(),\n",
    "    2005: df_2005['Deaths due to Alchohol'].mean(),\n",
    "    2010: df_2010['Deaths due to Alchohol'].mean(),\n",
    "    2015: df_2015['Deaths due to Alchohol'].mean(),\n",
    "    2018: df_2018['Deaths due to Alchohol'].mean()\n",
    "}\n",
    "\n",
    "# Plotting side by side\n",
    "fig, axs = plt.subplots(1, 2, figsize=(18, 6))  # 1 row, 2 columns\n",
    "\n",
    "# Plot for Average Alcohol Consumption\n",
    "axs[0].plot(list(mean_consumption.keys()), list(mean_consumption.values()), marker='o', linestyle='-')\n",
    "axs[0].set_title('Average Alcohol Consumption by Year')\n",
    "axs[0].set_xlabel('Year')\n",
    "axs[0].set_ylabel('Average Alcohol Consumption')\n",
    "axs[0].grid(True)\n",
    "axs[0].set_xticks(list(mean_consumption.keys()))\n",
    "\n",
    "#Plot for Average Deaths due to Alcoh\n",
    "trends_filtered = yearly_trends[~yearly_trends['Year'].astype(str).str.endswith(('.0', '.5'))]\n",
    "\n",
    "axs[1].set_ylabel('Average Deaths')\n",
    "axs[1].grid(True)\n",
    "axs[1].set_xticks(list(mean_deaths.keys()))\n",
    "\n",
    "plt.tight_layout()\n",
    "plt.show()\n"
   ]
  },
  {
   "cell_type": "markdown",
   "metadata": {},
   "source": [
    "Add description along with explanation\n",
    "\n",
    "## Functions\n",
    "## Choose one of the architecture in this section"
   ]
  },
  {
   "cell_type": "code",
   "execution_count": 197,
   "metadata": {},
   "outputs": [
    {
     "data": {
      "text/html": [
       "<div>\n",
       "<style scoped>\n",
       "    .dataframe tbody tr th:only-of-type {\n",
       "        vertical-align: middle;\n",
       "    }\n",
       "\n",
       "    .dataframe tbody tr th {\n",
       "        vertical-align: top;\n",
       "    }\n",
       "\n",
       "    .dataframe thead th {\n",
       "        text-align: right;\n",
       "    }\n",
       "</style>\n",
       "<table border=\"1\" class=\"dataframe\">\n",
       "  <thead>\n",
       "    <tr style=\"text-align: right;\">\n",
       "      <th></th>\n",
       "      <th>Country</th>\n",
       "      <th>Year</th>\n",
       "      <th>Alchohol consumption</th>\n",
       "      <th>Deaths due to Alchohol</th>\n",
       "      <th>Total Population</th>\n",
       "      <th>Mortality Rate</th>\n",
       "    </tr>\n",
       "  </thead>\n",
       "  <tbody>\n",
       "    <tr>\n",
       "      <th>0</th>\n",
       "      <td>Afghanistan</td>\n",
       "      <td>2010</td>\n",
       "      <td>0.21</td>\n",
       "      <td>491.64770</td>\n",
       "      <td>27803000</td>\n",
       "      <td>1.768326</td>\n",
       "    </tr>\n",
       "    <tr>\n",
       "      <th>1</th>\n",
       "      <td>Afghanistan</td>\n",
       "      <td>2015</td>\n",
       "      <td>0.21</td>\n",
       "      <td>521.93640</td>\n",
       "      <td>33361000</td>\n",
       "      <td>1.564511</td>\n",
       "    </tr>\n",
       "    <tr>\n",
       "      <th>2</th>\n",
       "      <td>Afghanistan</td>\n",
       "      <td>2018</td>\n",
       "      <td>0.21</td>\n",
       "      <td>574.54584</td>\n",
       "      <td>36161000</td>\n",
       "      <td>1.588855</td>\n",
       "    </tr>\n",
       "    <tr>\n",
       "      <th>3</th>\n",
       "      <td>Albania</td>\n",
       "      <td>2000</td>\n",
       "      <td>6.57</td>\n",
       "      <td>511.38745</td>\n",
       "      <td>3196000</td>\n",
       "      <td>16.000859</td>\n",
       "    </tr>\n",
       "    <tr>\n",
       "      <th>4</th>\n",
       "      <td>Albania</td>\n",
       "      <td>2005</td>\n",
       "      <td>7.65</td>\n",
       "      <td>640.57010</td>\n",
       "      <td>3047000</td>\n",
       "      <td>21.022977</td>\n",
       "    </tr>\n",
       "  </tbody>\n",
       "</table>\n",
       "</div>"
      ],
      "text/plain": [
       "       Country  Year  Alchohol consumption  Deaths due to Alchohol  \\\n",
       "0  Afghanistan  2010                  0.21               491.64770   \n",
       "1  Afghanistan  2015                  0.21               521.93640   \n",
       "2  Afghanistan  2018                  0.21               574.54584   \n",
       "3      Albania  2000                  6.57               511.38745   \n",
       "4      Albania  2005                  7.65               640.57010   \n",
       "\n",
       "   Total Population  Mortality Rate  \n",
       "0          27803000        1.768326  \n",
       "1          33361000        1.564511  \n",
       "2          36161000        1.588855  \n",
       "3           3196000       16.000859  \n",
       "4           3047000       21.022977  "
      ]
     },
     "execution_count": 197,
     "metadata": {},
     "output_type": "execute_result"
    }
   ],
   "source": [
    "# Step 1: Calculate Mortality Rate due to Alcohol per 100,000 population\n",
    "df['Mortality Rate'] = (df['Deaths due to Alchohol'] / df['Total Population']) * 100000 # Explain this in-detail\n",
    "\n",
    "# To view the first few rows of the transformed main DataFrame\n",
    "df.head()"
   ]
  },
  {
   "cell_type": "code",
   "execution_count": 225,
   "metadata": {},
   "outputs": [
    {
     "data": {
      "image/png": "[encoded data removed]",
      "text/plain": [
       "<Figure size 640x480 with 1 Axes>"
      ]
     },
     "metadata": {},
     "output_type": "display_data"
    }
   ],
   "source": [
    "import numpy as np \n",
    "import pylab \n",
    "import scipy.stats as stats\n",
    "\n",
    "measurements = np.random.normal(loc = 20, scale = 5, size=100)   \n",
    "stats.probplot(df['Alchohol consumption'], dist=\"norm\", plot=pylab)\n",
    "pylab.show()"
   ]
  },
  {
   "cell_type": "code",
   "execution_count": 224,
   "metadata": {},
   "outputs": [
    {
     "data": {
      "text/plain": [
       "AndersonResult(statistic=11.413999683994462, critical_values=array([0.573, 0.653, 0.784, 0.914, 1.087]), significance_level=array([15. , 10. ,  5. ,  2.5,  1. ]), fit_result=  params: FitParams(loc=6.089512304250559, scale=4.299929764962567)\n",
       " success: True\n",
       " message: '`anderson` successfully fit the distribution to the data.')"
      ]
     },
     "execution_count": 224,
     "metadata": {},
     "output_type": "execute_result"
    }
   ],
   "source": [
    "from scipy.stats import anderson\n",
    "res = anderson(df['Alchohol consumption'])\n",
    "res"
   ]
  },
  {
   "cell_type": "code",
   "execution_count": 198,
   "metadata": {},
   "outputs": [
    {
     "data": {
      "text/html": [
       "<div>\n",
       "<style scoped>\n",
       "    .dataframe tbody tr th:only-of-type {\n",
       "        vertical-align: middle;\n",
       "    }\n",
       "\n",
       "    .dataframe tbody tr th {\n",
       "        vertical-align: top;\n",
       "    }\n",
       "\n",
       "    .dataframe thead th {\n",
       "        text-align: right;\n",
       "    }\n",
       "</style>\n",
       "<table border=\"1\" class=\"dataframe\">\n",
       "  <thead>\n",
       "    <tr style=\"text-align: right;\">\n",
       "      <th></th>\n",
       "      <th>Year</th>\n",
       "      <th>Alchohol consumption</th>\n",
       "      <th>Mortality Rate</th>\n",
       "    </tr>\n",
       "  </thead>\n",
       "  <tbody>\n",
       "    <tr>\n",
       "      <th>0</th>\n",
       "      <td>2000</td>\n",
       "      <td>6.057767</td>\n",
       "      <td>34.090226</td>\n",
       "    </tr>\n",
       "    <tr>\n",
       "      <th>1</th>\n",
       "      <td>2005</td>\n",
       "      <td>6.149659</td>\n",
       "      <td>35.213191</td>\n",
       "    </tr>\n",
       "    <tr>\n",
       "      <th>2</th>\n",
       "      <td>2010</td>\n",
       "      <td>6.164311</td>\n",
       "      <td>35.117312</td>\n",
       "    </tr>\n",
       "    <tr>\n",
       "      <th>3</th>\n",
       "      <td>2015</td>\n",
       "      <td>6.080077</td>\n",
       "      <td>33.854617</td>\n",
       "    </tr>\n",
       "    <tr>\n",
       "      <th>4</th>\n",
       "      <td>2018</td>\n",
       "      <td>5.996945</td>\n",
       "      <td>34.047410</td>\n",
       "    </tr>\n",
       "  </tbody>\n",
       "</table>\n",
       "</div>"
      ],
      "text/plain": [
       "   Year  Alchohol consumption  Mortality Rate\n",
       "0  2000              6.057767       34.090226\n",
       "1  2005              6.149659       35.213191\n",
       "2  2010              6.164311       35.117312\n",
       "3  2015              6.080077       33.854617\n",
       "4  2018              5.996945       34.047410"
      ]
     },
     "execution_count": 198,
     "metadata": {},
     "output_type": "execute_result"
    }
   ],
   "source": [
    "# Step 2: Aggregate data by Year to analyze global trends over time\n",
    "# Calculate mean alcohol consumption and mean mortality rate per year\n",
    "yearly_trends = df.groupby('Year').agg({\n",
    "    'Alchohol consumption': 'mean',\n",
    "    'Mortality Rate': 'mean'\n",
    "}).reset_index()\n",
    "\n",
    "# To view the yearly trends\n",
    "yearly_trends.head()\n"
   ]
  },
  {
   "cell_type": "code",
   "execution_count": 199,
   "metadata": {},
   "outputs": [
    {
     "data": {
      "image/png": "[encoded data removed]",
      "text/plain": [
       "<Figure size 1800x600 with 2 Axes>"
      ]
     },
     "metadata": {},
     "output_type": "display_data"
    }
   ],
   "source": [
    "# You don't need this command\n",
    "yearly_trends_filtered = yearly_trends[~yearly_trends['Year'].astype(str).str.endswith(('.0', '.5'))]\n",
    "\n",
    "# Plotting without years ending in .0 or .5\n",
    "plt.figure(figsize=(18, 6))\n",
    "\n",
    "# Alcohol Consumption Plot\n",
    "plt.subplot(1, 2, 1)\n",
    "plt.plot(yearly_trends_filtered['Year'], yearly_trends_filtered['Alchohol consumption'], marker='o', linestyle='-', color='blue')\n",
    "plt.title('Average Alcohol Consumption Over Time')\n",
    "plt.xlabel('Year')\n",
    "plt.ylabel('Average Alcohol Consumption')\n",
    "plt.xticks(yearly_trends_filtered['Year'].unique())  # Displaying only the filtered years on the x-axis\n",
    "plt.grid(True)\n",
    "\n",
    "# Mortality Rate Plot\n",
    "plt.subplot(1, 2, 2)\n",
    "plt.plot(yearly_trends_filtered['Year'], yearly_trends_filtered['Mortality Rate'], marker='s', linestyle='-', color='red')\n",
    "plt.title('Average Mortality Rate Over Time')\n",
    "plt.xlabel('Year')\n",
    "plt.ylabel('Mortality Rate (per 100,000 population)')\n",
    "plt.xticks(yearly_trends_filtered['Year'].unique())  # Displaying only the filtered years on the x-axis\n",
    "plt.grid(True)\n",
    "\n",
    "plt.tight_layout()  # Adjust subplot parameters\n",
    "plt.show()  # Display the plots\n"
   ]
  },
  {
   "cell_type": "markdown",
   "metadata": {},
   "source": [
    "There is a positive correlation between alcohol consumption and mortality rate due to alcohol. This means that as alcohol consumption increases, the mortality rate due to alcohol also increases. (ADD DECEASES HERE)\n",
    "\n",
    "Also, explain the difference between this plot with the privious plot.\n",
    "\n",
    "Add a heatmap"
   ]
  },
  {
   "cell_type": "markdown",
   "metadata": {},
   "source": [
    "Data Analysis"
   ]
  },
  {
   "cell_type": "code",
   "execution_count": 200,
   "metadata": {},
   "outputs": [
    {
     "name": "stdout",
     "output_type": "stream",
     "text": [
      "       Alchohol consumption  Mortality Rate\n",
      "count            894.000000      894.000000\n",
      "mean               6.089512       34.461728\n",
      "std                4.299930       27.282453\n",
      "min                0.000000        0.668772\n",
      "25%                2.190000       15.065044\n",
      "50%                5.615000       31.406040\n",
      "75%                9.487500       45.476747\n",
      "max               20.500000      214.849635\n",
      "                      Alchohol consumption  Mortality Rate\n",
      "Alchohol consumption              1.000000        0.766603\n",
      "Mortality Rate                    0.766603        1.000000\n",
      "       Country Alchohol consumption           Mortality Rate          \n",
      "                               mean       std           mean       std\n",
      "0  Afghanistan                0.210  0.000000       1.640564  0.111313\n",
      "1      Albania                7.164  0.511253      22.069201  3.845094\n",
      "2      Algeria                0.784  0.165167       2.588453  0.390011\n",
      "3      Andorra               11.794  1.056092      48.894803  3.598349\n",
      "4       Angola                6.142  2.292361      40.384050  4.020517\n"
     ]
    }
   ],
   "source": [
    "# 1. Descriptive Statistics for alcohol consumption and mortality rates\n",
    "# FUNCTION\n",
    "descriptive_stats = df[['Alchohol consumption', 'Mortality Rate']].describe()\n",
    "\n",
    "# 2. Correlation Analysis between alcohol consumption and mortality rates\n",
    "correlation_analysis = df[['Alchohol consumption', 'Mortality Rate']].corr()\n",
    "\n",
    "# 3. Comparative Analysis: Identifying countries with significant changes\n",
    "# We will calculate the mean and standard deviation for alcohol consumption and mortality rates for each country\n",
    "comparative_analysis = df.groupby('Country').agg({\n",
    "    'Alchohol consumption': ['mean', 'std'],\n",
    "    'Mortality Rate': ['mean', 'std']\n",
    "}).reset_index()\n",
    "\n",
    "# To view the descriptive statistics\n",
    "print(descriptive_stats)\n",
    "\n",
    "# To view the correlation analysis\n",
    "print(correlation_analysis)\n",
    "\n",
    "# To view the comparative analysis for the first few countries\n",
    "print(comparative_analysis.head())\n"
   ]
  },
  {
   "cell_type": "code",
   "execution_count": 201,
   "metadata": {},
   "outputs": [
    {
     "data": {
      "text/plain": [
       "0       0.2100\n",
       "1       7.1640\n",
       "2       0.7840\n",
       "3      11.7940\n",
       "4       6.1420\n",
       "        ...   \n",
       "176     7.6400\n",
       "177     5.2520\n",
       "178     0.2832\n",
       "179     5.3620\n",
       "180     3.7500\n",
       "Name: mean, Length: 181, dtype: float64"
      ]
     },
     "execution_count": 201,
     "metadata": {},
     "output_type": "execute_result"
    }
   ],
   "source": [
    "comparative_analysis['Alchohol consumption']['mean']"
   ]
  },
  {
   "cell_type": "code",
   "execution_count": 202,
   "metadata": {},
   "outputs": [
    {
     "data": {
      "text/plain": [
       "<Axes: >"
      ]
     },
     "execution_count": 202,
     "metadata": {},
     "output_type": "execute_result"
    },
    {
     "data": {
      "image/png": "[encoded data removed]",
      "text/plain": [
       "<Figure size 640x480 with 2 Axes>"
      ]
     },
     "metadata": {},
     "output_type": "display_data"
    }
   ],
   "source": [
    "sns.heatmap(correlation_analysis, annot=True, fmt=\".2f\")"
   ]
  },
  {
   "cell_type": "code",
   "execution_count": 203,
   "metadata": {},
   "outputs": [
    {
     "name": "stderr",
     "output_type": "stream",
     "text": [
      "/tmp/ipykernel_1561400/532524976.py:18: UserWarning:\n",
      "\n",
      "set_ticklabels() should only be used with a fixed number of ticks, i.e. after set_ticks() or using a FixedLocator.\n",
      "\n",
      "/tmp/ipykernel_1561400/532524976.py:30: UserWarning:\n",
      "\n",
      "set_ticklabels() should only be used with a fixed number of ticks, i.e. after set_ticks() or using a FixedLocator.\n",
      "\n"
     ]
    },
    {
     "data": {
      "image/png": "[encoded data removed]",
      "text/plain": [
       "<Figure size 1600x600 with 2 Axes>"
      ]
     },
     "metadata": {},
     "output_type": "display_data"
    }
   ],
   "source": [
    "# Plotting Alcohol Consumption and Mortality Rate with Mean and STD Indicators\n",
    "# NOTE:Think about the colors, Add Functions \n",
    "# Selecting a few countries for illustrative plotting\n",
    "sample_countries = config['countires_to_draw']\n",
    "sample_data = comparative_analysis[comparative_analysis['Country'].isin(sample_countries)]\n",
    "\n",
    "# Setting up the figure and axes\n",
    "fig, ax = plt.subplots(1, 2, figsize=(16, 6))\n",
    "\n",
    "# Alcohol Consumption Plot\n",
    "for country in sample_countries:\n",
    "    country_data = sample_data[sample_data['Country'] == country]\n",
    "    ax[0].errorbar(country, country_data['Alchohol consumption']['mean'], yerr=country_data['Alchohol consumption']['std'], fmt='o', capsize=5, label=country)\n",
    "\n",
    "ax[0].set_title('Average Alcohol Consumption with STD')\n",
    "ax[0].set_xlabel('Country')\n",
    "ax[0].set_ylabel('Average Alcohol Consumption')\n",
    "ax[0].set_xticklabels(sample_countries, rotation=45)\n",
    "ax[0].grid(True)\n",
    "ax[0].legend(title='Country')\n",
    "\n",
    "# Mortality Rate Plot\n",
    "for country in sample_countries:\n",
    "    country_data = sample_data[sample_data['Country'] == country]\n",
    "    ax[1].errorbar(country, country_data['Mortality Rate']['mean'], yerr=country_data['Mortality Rate']['std'], fmt='s', capsize=5, label=country)\n",
    "\n",
    "ax[1].set_title('Average Mortality Rate with STD')\n",
    "ax[1].set_xlabel('Country')\n",
    "ax[1].set_ylabel('Mortality Rate (per 100,000 population)')\n",
    "ax[1].set_xticklabels(sample_countries, rotation=45)\n",
    "ax[1].grid(True)\n",
    "\n",
    "plt.tight_layout()\n",
    "plt.show()\n"
   ]
  },
  {
   "cell_type": "code",
   "execution_count": 204,
   "metadata": {},
   "outputs": [
    {
     "data": {
      "text/html": [
       "<div>\n",
       "<style scoped>\n",
       "    .dataframe tbody tr th:only-of-type {\n",
       "        vertical-align: middle;\n",
       "    }\n",
       "\n",
       "    .dataframe tbody tr th {\n",
       "        vertical-align: top;\n",
       "    }\n",
       "\n",
       "    .dataframe thead th {\n",
       "        text-align: right;\n",
       "    }\n",
       "</style>\n",
       "<table border=\"1\" class=\"dataframe\">\n",
       "  <thead>\n",
       "    <tr style=\"text-align: right;\">\n",
       "      <th></th>\n",
       "      <th>Country</th>\n",
       "      <th>Year</th>\n",
       "      <th>Alchohol consumption</th>\n",
       "      <th>Deaths due to Alchohol</th>\n",
       "      <th>Total Population</th>\n",
       "      <th>Mortality Rate</th>\n",
       "    </tr>\n",
       "  </thead>\n",
       "  <tbody>\n",
       "    <tr>\n",
       "      <th>18</th>\n",
       "      <td>Angola</td>\n",
       "      <td>2000</td>\n",
       "      <td>2.76</td>\n",
       "      <td>5664.489</td>\n",
       "      <td>16127000</td>\n",
       "      <td>35.124257</td>\n",
       "    </tr>\n",
       "    <tr>\n",
       "      <th>19</th>\n",
       "      <td>Angola</td>\n",
       "      <td>2005</td>\n",
       "      <td>4.89</td>\n",
       "      <td>8071.080</td>\n",
       "      <td>19104000</td>\n",
       "      <td>42.248116</td>\n",
       "    </tr>\n",
       "    <tr>\n",
       "      <th>20</th>\n",
       "      <td>Angola</td>\n",
       "      <td>2010</td>\n",
       "      <td>8.16</td>\n",
       "      <td>10470.952</td>\n",
       "      <td>22925000</td>\n",
       "      <td>45.674818</td>\n",
       "    </tr>\n",
       "    <tr>\n",
       "      <th>21</th>\n",
       "      <td>Angola</td>\n",
       "      <td>2015</td>\n",
       "      <td>7.96</td>\n",
       "      <td>11271.206</td>\n",
       "      <td>27624000</td>\n",
       "      <td>40.802223</td>\n",
       "    </tr>\n",
       "    <tr>\n",
       "      <th>22</th>\n",
       "      <td>Angola</td>\n",
       "      <td>2018</td>\n",
       "      <td>6.94</td>\n",
       "      <td>11702.594</td>\n",
       "      <td>30739000</td>\n",
       "      <td>38.070835</td>\n",
       "    </tr>\n",
       "  </tbody>\n",
       "</table>\n",
       "</div>"
      ],
      "text/plain": [
       "   Country  Year  Alchohol consumption  Deaths due to Alchohol  \\\n",
       "18  Angola  2000                  2.76                5664.489   \n",
       "19  Angola  2005                  4.89                8071.080   \n",
       "20  Angola  2010                  8.16               10470.952   \n",
       "21  Angola  2015                  7.96               11271.206   \n",
       "22  Angola  2018                  6.94               11702.594   \n",
       "\n",
       "    Total Population  Mortality Rate  \n",
       "18          16127000       35.124257  \n",
       "19          19104000       42.248116  \n",
       "20          22925000       45.674818  \n",
       "21          27624000       40.802223  \n",
       "22          30739000       38.070835  "
      ]
     },
     "execution_count": 204,
     "metadata": {},
     "output_type": "execute_result"
    }
   ],
   "source": [
    "df[df.Country == 'Angola']"
   ]
  },
  {
   "cell_type": "markdown",
   "metadata": {},
   "source": [
    "<h1>Time series analysis</h1>"
   ]
  },
  {
   "cell_type": "code",
   "execution_count": 205,
   "metadata": {},
   "outputs": [],
   "source": [
    "global_trends = df.groupby('Year').agg({\n",
    "    'Alchohol consumption': 'mean',\n",
    "    'Mortality Rate': 'mean'\n",
    "}).reset_index()"
   ]
  },
  {
   "cell_type": "code",
   "execution_count": 206,
   "metadata": {},
   "outputs": [
    {
     "data": {
      "image/png": "[encoded data removed]",
      "text/plain": [
       "<Figure size 1400x1000 with 2 Axes>"
      ]
     },
     "metadata": {},
     "output_type": "display_data"
    },
    {
     "data": {
      "image/png": "[encoded data removed]",
      "text/plain": [
       "<Figure size 1400x1000 with 2 Axes>"
      ]
     },
     "metadata": {},
     "output_type": "display_data"
    }
   ],
   "source": [
    "# Plotting Global Trends\n",
    "plt.figure(figsize=(14, 10))\n",
    "\n",
    "# Global Alcohol Consumption Trend\n",
    "plt.subplot(2, 1, 1)  # 2 rows, 1 column, 1st subplot\n",
    "plt.plot(global_trends['Year'], global_trends['Alchohol consumption'], marker='o', linestyle='-', color='blue',label='Alcohol Consumption')\n",
    "plt.title('Global Alcohol Consumption Trend')\n",
    "plt.ylabel('Average Alcohol Consumption')\n",
    "plt.grid(True)\n",
    "plt.legend()\n",
    "\n",
    "# Global Mortality Rate Trend\n",
    "plt.subplot(2, 1, 2)  # 2 rows, 1 column, 2nd subplot\n",
    "plt.plot(global_trends['Year'], global_trends['Mortality Rate'], marker='s', linestyle='-', color='red',label='Mortality Rate')\n",
    "plt.title('Global Mortality Rate Trend')\n",
    "plt.xlabel('Year')\n",
    "plt.ylabel('Mortality Rate (per 100,000 population)')\n",
    "plt.grid(True)\n",
    "plt.legend()\n",
    "plt.tight_layout()\n",
    "plt.show()\n",
    "\n",
    "# Time Series Analysis for a Specific Country (Example: United States)\n",
    "country_name = 'United States'\n",
    "country_data = df[df['Country'] == country_name]\n",
    "\n",
    "# Plotting Country-Specific Trends\n",
    "plt.figure(figsize=(14, 10))\n",
    "\n",
    "# Country-Specific Alcohol Consumption Trend\n",
    "plt.subplot(2, 1, 1)  # 2 rows, 1 column, 1st subplot\n",
    "plt.plot(country_data['Year'], country_data['Alchohol consumption'], marker='o', linestyle='-', color='green', label='Us Alcohol Consumption')\n",
    "plt.title(f'{country_name} Alcohol Consumption Trend')\n",
    "plt.ylabel('Alcohol Consumption')\n",
    "plt.legend()\n",
    "plt.grid(True)\n",
    "\n",
    "# Country-Specific Mortality Rate Trend\n",
    "plt.subplot(2, 1, 2)  # 2 rows, 1 column, 2nd subplot\n",
    "plt.plot(country_data['Year'], country_data['Mortality Rate'], marker='s', linestyle='-', color='purple',label='Us Mortality Rate')\n",
    "plt.title(f'{country_name} Mortality Rate Trend')\n",
    "plt.xlabel('Year')\n",
    "plt.ylabel('Mortality Rate (per 100,000 population)')\n",
    "plt.grid(True)\n",
    "plt.legend()\n",
    "plt.tight_layout()\n",
    "plt.show()"
   ]
  },
  {
   "cell_type": "markdown",
   "metadata": {},
   "source": [
    "<h1> Global Alchohol consumption Trend with Interactive plt (PLot this based on countries)</h1>"
   ]
  },
  {
   "cell_type": "code",
   "execution_count": 208,
   "metadata": {},
   "outputs": [
    {
     "data": {
      "application/vnd.plotly.v1+json": {
       "config": {
        "plotlyServerURL": "https://plot.ly"
       },
       "data": [
        {
         "hovertemplate": "Year=%{x}<br>Average Alcohol Consumption=%{y}<extra></extra>",
         "legendgroup": "",
         "line": {
          "color": "#636efa",
          "dash": "solid"
         },
         "marker": {
          "symbol": "circle"
         },
         "mode": "lines",
         "name": "",
         "orientation": "v",
         "showlegend": false,
         "type": "scatter",
         "x": [
          2000,
          2005,
          2010,
          2015,
          2018
         ],
         "xaxis": "x",
         "y": [
          6.057767045454545,
          6.149659090909091,
          6.164311111111111,
          6.080077348066298,
          5.996944751381215
         ],
         "yaxis": "y"
        }
       ],
       "layout": {
        "legend": {
         "tracegroupgap": 0
        },
        "template": {
         "data": {
          "bar": [
           {
            "error_x": {
             "color": "#2a3f5f"
            },
            "error_y": {
             "color": "#2a3f5f"
            },
            "marker": {
             "line": {
              "color": "#E5ECF6",
              "width": 0.5
             },
             "pattern": {
              "fillmode": "overlay",
              "size": 10,
              "solidity": 0.2
             }
            },
            "type": "bar"
           }
          ],
          "barpolar": [
           {
            "marker": {
             "line": {
              "color": "#E5ECF6",
              "width": 0.5
             },
             "pattern": {
              "fillmode": "overlay",
              "size": 10,
              "solidity": 0.2
             }
            },
            "type": "barpolar"
           }
          ],
          "carpet": [
           {
            "aaxis": {
             "endlinecolor": "#2a3f5f",
             "gridcolor": "white",
             "linecolor": "white",
             "minorgridcolor": "white",
             "startlinecolor": "#2a3f5f"
            },
            "baxis": {
             "endlinecolor": "#2a3f5f",
             "gridcolor": "white",
             "linecolor": "white",
             "minorgridcolor": "white",
             "startlinecolor": "#2a3f5f"
            },
            "type": "carpet"
           }
          ],
          "choropleth": [
           {
            "colorbar": {
             "outlinewidth": 0,
             "ticks": ""
            },
            "type": "choropleth"
           }
          ],
          "contour": [
           {
            "colorbar": {
             "outlinewidth": 0,
             "ticks": ""
            },
            "colorscale": [
             [
              0,
              "#0d0887"
             ],
             [
              0.1111111111111111,
              "#46039f"
             ],
             [
              0.2222222222222222,
              "#7201a8"
             ],
             [
              0.3333333333333333,
              "#9c179e"
             ],
             [
              0.4444444444444444,
              "#bd3786"
             ],
             [
              0.5555555555555556,
              "#d8576b"
             ],
             [
              0.6666666666666666,
              "#ed7953"
             ],
             [
              0.7777777777777778,
              "#fb9f3a"
             ],
             [
              0.8888888888888888,
              "#fdca26"
             ],
             [
              1,
              "#f0f921"
             ]
            ],
            "type": "contour"
           }
          ],
          "contourcarpet": [
           {
            "colorbar": {
             "outlinewidth": 0,
             "ticks": ""
            },
            "type": "contourcarpet"
           }
          ],
          "heatmap": [
           {
            "colorbar": {
             "outlinewidth": 0,
             "ticks": ""
            },
            "colorscale": [
             [
              0,
              "#0d0887"
             ],
             [
              0.1111111111111111,
              "#46039f"
             ],
             [
              0.2222222222222222,
              "#7201a8"
             ],
             [
              0.3333333333333333,
              "#9c179e"
             ],
             [
              0.4444444444444444,
              "#bd3786"
             ],
             [
              0.5555555555555556,
              "#d8576b"
             ],
             [
              0.6666666666666666,
              "#ed7953"
             ],
             [
              0.7777777777777778,
              "#fb9f3a"
             ],
             [
              0.8888888888888888,
              "#fdca26"
             ],
             [
              1,
              "#f0f921"
             ]
            ],
            "type": "heatmap"
           }
          ],
          "heatmapgl": [
           {
            "colorbar": {
             "outlinewidth": 0,
             "ticks": ""
            },
            "colorscale": [
             [
              0,
              "#0d0887"
             ],
             [
              0.1111111111111111,
              "#46039f"
             ],
             [
              0.2222222222222222,
              "#7201a8"
             ],
             [
              0.3333333333333333,
              "#9c179e"
             ],
             [
              0.4444444444444444,
              "#bd3786"
             ],
             [
              0.5555555555555556,
              "#d8576b"
             ],
             [
              0.6666666666666666,
              "#ed7953"
             ],
             [
              0.7777777777777778,
              "#fb9f3a"
             ],
             [
              0.8888888888888888,
              "#fdca26"
             ],
             [
              1,
              "#f0f921"
             ]
            ],
            "type": "heatmapgl"
           }
          ],
          "histogram": [
           {
            "marker": {
             "pattern": {
              "fillmode": "overlay",
              "size": 10,
              "solidity": 0.2
             }
            },
            "type": "histogram"
           }
          ],
          "histogram2d": [
           {
            "colorbar": {
             "outlinewidth": 0,
             "ticks": ""
            },
            "colorscale": [
             [
              0,
              "#0d0887"
             ],
             [
              0.1111111111111111,
              "#46039f"
             ],
             [
              0.2222222222222222,
              "#7201a8"
             ],
             [
              0.3333333333333333,
              "#9c179e"
             ],
             [
              0.4444444444444444,
              "#bd3786"
             ],
             [
              0.5555555555555556,
              "#d8576b"
             ],
             [
              0.6666666666666666,
              "#ed7953"
             ],
             [
              0.7777777777777778,
              "#fb9f3a"
             ],
             [
              0.8888888888888888,
              "#fdca26"
             ],
             [
              1,
              "#f0f921"
             ]
            ],
            "type": "histogram2d"
           }
          ],
          "histogram2dcontour": [
           {
            "colorbar": {
             "outlinewidth": 0,
             "ticks": ""
            },
            "colorscale": [
             [
              0,
              "#0d0887"
             ],
             [
              0.1111111111111111,
              "#46039f"
             ],
             [
              0.2222222222222222,
              "#7201a8"
             ],
             [
              0.3333333333333333,
              "#9c179e"
             ],
             [
              0.4444444444444444,
              "#bd3786"
             ],
             [
              0.5555555555555556,
              "#d8576b"
             ],
             [
              0.6666666666666666,
              "#ed7953"
             ],
             [
              0.7777777777777778,
              "#fb9f3a"
             ],
             [
              0.8888888888888888,
              "#fdca26"
             ],
             [
              1,
              "#f0f921"
             ]
            ],
            "type": "histogram2dcontour"
           }
          ],
          "mesh3d": [
           {
            "colorbar": {
             "outlinewidth": 0,
             "ticks": ""
            },
            "type": "mesh3d"
           }
          ],
          "parcoords": [
           {
            "line": {
             "colorbar": {
              "outlinewidth": 0,
              "ticks": ""
             }
            },
            "type": "parcoords"
           }
          ],
          "pie": [
           {
            "automargin": true,
            "type": "pie"
           }
          ],
          "scatter": [
           {
            "fillpattern": {
             "fillmode": "overlay",
             "size": 10,
             "solidity": 0.2
            },
            "type": "scatter"
           }
          ],
          "scatter3d": [
           {
            "line": {
             "colorbar": {
              "outlinewidth": 0,
              "ticks": ""
             }
            },
            "marker": {
             "colorbar": {
              "outlinewidth": 0,
              "ticks": ""
             }
            },
            "type": "scatter3d"
           }
          ],
          "scattercarpet": [
           {
            "marker": {
             "colorbar": {
              "outlinewidth": 0,
              "ticks": ""
             }
            },
            "type": "scattercarpet"
           }
          ],
          "scattergeo": [
           {
            "marker": {
             "colorbar": {
              "outlinewidth": 0,
              "ticks": ""
             }
            },
            "type": "scattergeo"
           }
          ],
          "scattergl": [
           {
            "marker": {
             "colorbar": {
              "outlinewidth": 0,
              "ticks": ""
             }
            },
            "type": "scattergl"
           }
          ],
          "scattermapbox": [
           {
            "marker": {
             "colorbar": {
              "outlinewidth": 0,
              "ticks": ""
             }
            },
            "type": "scattermapbox"
           }
          ],
          "scatterpolar": [
           {
            "marker": {
             "colorbar": {
              "outlinewidth": 0,
              "ticks": ""
             }
            },
            "type": "scatterpolar"
           }
          ],
          "scatterpolargl": [
           {
            "marker": {
             "colorbar": {
              "outlinewidth": 0,
              "ticks": ""
             }
            },
            "type": "scatterpolargl"
           }
          ],
          "scatterternary": [
           {
            "marker": {
             "colorbar": {
              "outlinewidth": 0,
              "ticks": ""
             }
            },
            "type": "scatterternary"
           }
          ],
          "surface": [
           {
            "colorbar": {
             "outlinewidth": 0,
             "ticks": ""
            },
            "colorscale": [
             [
              0,
              "#0d0887"
             ],
             [
              0.1111111111111111,
              "#46039f"
             ],
             [
              0.2222222222222222,
              "#7201a8"
             ],
             [
              0.3333333333333333,
              "#9c179e"
             ],
             [
              0.4444444444444444,
              "#bd3786"
             ],
             [
              0.5555555555555556,
              "#d8576b"
             ],
             [
              0.6666666666666666,
              "#ed7953"
             ],
             [
              0.7777777777777778,
              "#fb9f3a"
             ],
             [
              0.8888888888888888,
              "#fdca26"
             ],
             [
              1,
              "#f0f921"
             ]
            ],
            "type": "surface"
           }
          ],
          "table": [
           {
            "cells": {
             "fill": {
              "color": "#EBF0F8"
             },
             "line": {
              "color": "white"
             }
            },
            "header": {
             "fill": {
              "color": "#C8D4E3"
             },
             "line": {
              "color": "white"
             }
            },
            "type": "table"
           }
          ]
         },
         "layout": {
          "annotationdefaults": {
           "arrowcolor": "#2a3f5f",
           "arrowhead": 0,
           "arrowwidth": 1
          },
          "autotypenumbers": "strict",
          "coloraxis": {
           "colorbar": {
            "outlinewidth": 0,
            "ticks": ""
           }
          },
          "colorscale": {
           "diverging": [
            [
             0,
             "#8e0152"
            ],
            [
             0.1,
             "#c51b7d"
            ],
            [
             0.2,
             "#de77ae"
            ],
            [
             0.3,
             "#f1b6da"
            ],
            [
             0.4,
             "#fde0ef"
            ],
            [
             0.5,
             "#f7f7f7"
            ],
            [
             0.6,
             "#e6f5d0"
            ],
            [
             0.7,
             "#b8e186"
            ],
            [
             0.8,
             "#7fbc41"
            ],
            [
             0.9,
             "#4d9221"
            ],
            [
             1,
             "#276419"
            ]
           ],
           "sequential": [
            [
             0,
             "#0d0887"
            ],
            [
             0.1111111111111111,
             "#46039f"
            ],
            [
             0.2222222222222222,
             "#7201a8"
            ],
            [
             0.3333333333333333,
             "#9c179e"
            ],
            [
             0.4444444444444444,
             "#bd3786"
            ],
            [
             0.5555555555555556,
             "#d8576b"
            ],
            [
             0.6666666666666666,
             "#ed7953"
            ],
            [
             0.7777777777777778,
             "#fb9f3a"
            ],
            [
             0.8888888888888888,
             "#fdca26"
            ],
            [
             1,
             "#f0f921"
            ]
           ],
           "sequentialminus": [
            [
             0,
             "#0d0887"
            ],
            [
             0.1111111111111111,
             "#46039f"
            ],
            [
             0.2222222222222222,
             "#7201a8"
            ],
            [
             0.3333333333333333,
             "#9c179e"
            ],
            [
             0.4444444444444444,
             "#bd3786"
            ],
            [
             0.5555555555555556,
             "#d8576b"
            ],
            [
             0.6666666666666666,
             "#ed7953"
            ],
            [
             0.7777777777777778,
             "#fb9f3a"
            ],
            [
             0.8888888888888888,
             "#fdca26"
            ],
            [
             1,
             "#f0f921"
            ]
           ]
          },
          "colorway": [
           "#636efa",
           "#EF553B",
           "#00cc96",
           "#ab63fa",
           "#FFA15A",
           "#19d3f3",
           "#FF6692",
           "#B6E880",
           "#FF97FF",
           "#FECB52"
          ],
          "font": {
           "color": "#2a3f5f"
          },
          "geo": {
           "bgcolor": "white",
           "lakecolor": "white",
           "landcolor": "#E5ECF6",
           "showlakes": true,
           "showland": true,
           "subunitcolor": "white"
          },
          "hoverlabel": {
           "align": "left"
          },
          "hovermode": "closest",
          "mapbox": {
           "style": "light"
          },
          "paper_bgcolor": "white",
          "plot_bgcolor": "#E5ECF6",
          "polar": {
           "angularaxis": {
            "gridcolor": "white",
            "linecolor": "white",
            "ticks": ""
           },
           "bgcolor": "#E5ECF6",
           "radialaxis": {
            "gridcolor": "white",
            "linecolor": "white",
            "ticks": ""
           }
          },
          "scene": {
           "xaxis": {
            "backgroundcolor": "#E5ECF6",
            "gridcolor": "white",
            "gridwidth": 2,
            "linecolor": "white",
            "showbackground": true,
            "ticks": "",
            "zerolinecolor": "white"
           },
           "yaxis": {
            "backgroundcolor": "#E5ECF6",
            "gridcolor": "white",
            "gridwidth": 2,
            "linecolor": "white",
            "showbackground": true,
            "ticks": "",
            "zerolinecolor": "white"
           },
           "zaxis": {
            "backgroundcolor": "#E5ECF6",
            "gridcolor": "white",
            "gridwidth": 2,
            "linecolor": "white",
            "showbackground": true,
            "ticks": "",
            "zerolinecolor": "white"
           }
          },
          "shapedefaults": {
           "line": {
            "color": "#2a3f5f"
           }
          },
          "ternary": {
           "aaxis": {
            "gridcolor": "white",
            "linecolor": "white",
            "ticks": ""
           },
           "baxis": {
            "gridcolor": "white",
            "linecolor": "white",
            "ticks": ""
           },
           "bgcolor": "#E5ECF6",
           "caxis": {
            "gridcolor": "white",
            "linecolor": "white",
            "ticks": ""
           }
          },
          "title": {
           "x": 0.05
          },
          "xaxis": {
           "automargin": true,
           "gridcolor": "white",
           "linecolor": "white",
           "ticks": "",
           "title": {
            "standoff": 15
           },
           "zerolinecolor": "white",
           "zerolinewidth": 2
          },
          "yaxis": {
           "automargin": true,
           "gridcolor": "white",
           "linecolor": "white",
           "ticks": "",
           "title": {
            "standoff": 15
           },
           "zerolinecolor": "white",
           "zerolinewidth": 2
          }
         }
        },
        "title": {
         "text": "Global Alcohol Consumption Trend"
        },
        "transition": {
         "duration": 500
        },
        "xaxis": {
         "anchor": "y",
         "domain": [
          0,
          1
         ],
         "title": {
          "text": "Year"
         }
        },
        "yaxis": {
         "anchor": "x",
         "domain": [
          0,
          1
         ],
         "title": {
          "text": "Average Alcohol Consumption"
         }
        }
       }
      }
     },
     "metadata": {},
     "output_type": "display_data"
    },
    {
     "data": {
      "application/vnd.jupyter.widget-view+json": {
       "model_id": "fc7a0344680f4a339ed3d8496c6a23f6",
       "version_major": 2,
       "version_minor": 0
      },
      "text/plain": [
       "interactive(children=(IntSlider(value=2018, continuous_update=False, description='Year:', max=2018, min=2000),…"
      ]
     },
     "metadata": {},
     "output_type": "display_data"
    },
    {
     "data": {
      "application/vnd.plotly.v1+json": {
       "config": {
        "plotlyServerURL": "https://plot.ly"
       },
       "data": [
        {
         "hovertemplate": "Year=%{x}<br>Average Alcohol Consumption=%{y}<extra></extra>",
         "legendgroup": "",
         "line": {
          "color": "#636efa",
          "dash": "solid"
         },
         "marker": {
          "symbol": "circle"
         },
         "mode": "lines",
         "name": "",
         "orientation": "v",
         "showlegend": false,
         "type": "scatter",
         "x": [
          2000,
          2005,
          2010,
          2015
         ],
         "xaxis": "x",
         "y": [
          6.057767045454545,
          6.149659090909091,
          6.164311111111111,
          6.080077348066298
         ],
         "yaxis": "y"
        }
       ],
       "layout": {
        "legend": {
         "tracegroupgap": 0
        },
        "template": {
         "data": {
          "bar": [
           {
            "error_x": {
             "color": "#2a3f5f"
            },
            "error_y": {
             "color": "#2a3f5f"
            },
            "marker": {
             "line": {
              "color": "#E5ECF6",
              "width": 0.5
             },
             "pattern": {
              "fillmode": "overlay",
              "size": 10,
              "solidity": 0.2
             }
            },
            "type": "bar"
           }
          ],
          "barpolar": [
           {
            "marker": {
             "line": {
              "color": "#E5ECF6",
              "width": 0.5
             },
             "pattern": {
              "fillmode": "overlay",
              "size": 10,
              "solidity": 0.2
             }
            },
            "type": "barpolar"
           }
          ],
          "carpet": [
           {
            "aaxis": {
             "endlinecolor": "#2a3f5f",
             "gridcolor": "white",
             "linecolor": "white",
             "minorgridcolor": "white",
             "startlinecolor": "#2a3f5f"
            },
            "baxis": {
             "endlinecolor": "#2a3f5f",
             "gridcolor": "white",
             "linecolor": "white",
             "minorgridcolor": "white",
             "startlinecolor": "#2a3f5f"
            },
            "type": "carpet"
           }
          ],
          "choropleth": [
           {
            "colorbar": {
             "outlinewidth": 0,
             "ticks": ""
            },
            "type": "choropleth"
           }
          ],
          "contour": [
           {
            "colorbar": {
             "outlinewidth": 0,
             "ticks": ""
            },
            "colorscale": [
             [
              0,
              "#0d0887"
             ],
             [
              0.1111111111111111,
              "#46039f"
             ],
             [
              0.2222222222222222,
              "#7201a8"
             ],
             [
              0.3333333333333333,
              "#9c179e"
             ],
             [
              0.4444444444444444,
              "#bd3786"
             ],
             [
              0.5555555555555556,
              "#d8576b"
             ],
             [
              0.6666666666666666,
              "#ed7953"
             ],
             [
              0.7777777777777778,
              "#fb9f3a"
             ],
             [
              0.8888888888888888,
              "#fdca26"
             ],
             [
              1,
              "#f0f921"
             ]
            ],
            "type": "contour"
           }
          ],
          "contourcarpet": [
           {
            "colorbar": {
             "outlinewidth": 0,
             "ticks": ""
            },
            "type": "contourcarpet"
           }
          ],
          "heatmap": [
           {
            "colorbar": {
             "outlinewidth": 0,
             "ticks": ""
            },
            "colorscale": [
             [
              0,
              "#0d0887"
             ],
             [
              0.1111111111111111,
              "#46039f"
             ],
             [
              0.2222222222222222,
              "#7201a8"
             ],
             [
              0.3333333333333333,
              "#9c179e"
             ],
             [
              0.4444444444444444,
              "#bd3786"
             ],
             [
              0.5555555555555556,
              "#d8576b"
             ],
             [
              0.6666666666666666,
              "#ed7953"
             ],
             [
              0.7777777777777778,
              "#fb9f3a"
             ],
             [
              0.8888888888888888,
              "#fdca26"
             ],
             [
              1,
              "#f0f921"
             ]
            ],
            "type": "heatmap"
           }
          ],
          "heatmapgl": [
           {
            "colorbar": {
             "outlinewidth": 0,
             "ticks": ""
            },
            "colorscale": [
             [
              0,
              "#0d0887"
             ],
             [
              0.1111111111111111,
              "#46039f"
             ],
             [
              0.2222222222222222,
              "#7201a8"
             ],
             [
              0.3333333333333333,
              "#9c179e"
             ],
             [
              0.4444444444444444,
              "#bd3786"
             ],
             [
              0.5555555555555556,
              "#d8576b"
             ],
             [
              0.6666666666666666,
              "#ed7953"
             ],
             [
              0.7777777777777778,
              "#fb9f3a"
             ],
             [
              0.8888888888888888,
              "#fdca26"
             ],
             [
              1,
              "#f0f921"
             ]
            ],
            "type": "heatmapgl"
           }
          ],
          "histogram": [
           {
            "marker": {
             "pattern": {
              "fillmode": "overlay",
              "size": 10,
              "solidity": 0.2
             }
            },
            "type": "histogram"
           }
          ],
          "histogram2d": [
           {
            "colorbar": {
             "outlinewidth": 0,
             "ticks": ""
            },
            "colorscale": [
             [
              0,
              "#0d0887"
             ],
             [
              0.1111111111111111,
              "#46039f"
             ],
             [
              0.2222222222222222,
              "#7201a8"
             ],
             [
              0.3333333333333333,
              "#9c179e"
             ],
             [
              0.4444444444444444,
              "#bd3786"
             ],
             [
              0.5555555555555556,
              "#d8576b"
             ],
             [
              0.6666666666666666,
              "#ed7953"
             ],
             [
              0.7777777777777778,
              "#fb9f3a"
             ],
             [
              0.8888888888888888,
              "#fdca26"
             ],
             [
              1,
              "#f0f921"
             ]
            ],
            "type": "histogram2d"
           }
          ],
          "histogram2dcontour": [
           {
            "colorbar": {
             "outlinewidth": 0,
             "ticks": ""
            },
            "colorscale": [
             [
              0,
              "#0d0887"
             ],
             [
              0.1111111111111111,
              "#46039f"
             ],
             [
              0.2222222222222222,
              "#7201a8"
             ],
             [
              0.3333333333333333,
              "#9c179e"
             ],
             [
              0.4444444444444444,
              "#bd3786"
             ],
             [
              0.5555555555555556,
              "#d8576b"
             ],
             [
              0.6666666666666666,
              "#ed7953"
             ],
             [
              0.7777777777777778,
              "#fb9f3a"
             ],
             [
              0.8888888888888888,
              "#fdca26"
             ],
             [
              1,
              "#f0f921"
             ]
            ],
            "type": "histogram2dcontour"
           }
          ],
          "mesh3d": [
           {
            "colorbar": {
             "outlinewidth": 0,
             "ticks": ""
            },
            "type": "mesh3d"
           }
          ],
          "parcoords": [
           {
            "line": {
             "colorbar": {
              "outlinewidth": 0,
              "ticks": ""
             }
            },
            "type": "parcoords"
           }
          ],
          "pie": [
           {
            "automargin": true,
            "type": "pie"
           }
          ],
          "scatter": [
           {
            "fillpattern": {
             "fillmode": "overlay",
             "size": 10,
             "solidity": 0.2
            },
            "type": "scatter"
           }
          ],
          "scatter3d": [
           {
            "line": {
             "colorbar": {
              "outlinewidth": 0,
              "ticks": ""
             }
            },
            "marker": {
             "colorbar": {
              "outlinewidth": 0,
              "ticks": ""
             }
            },
            "type": "scatter3d"
           }
          ],
          "scattercarpet": [
           {
            "marker": {
             "colorbar": {
              "outlinewidth": 0,
              "ticks": ""
             }
            },
            "type": "scattercarpet"
           }
          ],
          "scattergeo": [
           {
            "marker": {
             "colorbar": {
              "outlinewidth": 0,
              "ticks": ""
             }
            },
            "type": "scattergeo"
           }
          ],
          "scattergl": [
           {
            "marker": {
             "colorbar": {
              "outlinewidth": 0,
              "ticks": ""
             }
            },
            "type": "scattergl"
           }
          ],
          "scattermapbox": [
           {
            "marker": {
             "colorbar": {
              "outlinewidth": 0,
              "ticks": ""
             }
            },
            "type": "scattermapbox"
           }
          ],
          "scatterpolar": [
           {
            "marker": {
             "colorbar": {
              "outlinewidth": 0,
              "ticks": ""
             }
            },
            "type": "scatterpolar"
           }
          ],
          "scatterpolargl": [
           {
            "marker": {
             "colorbar": {
              "outlinewidth": 0,
              "ticks": ""
             }
            },
            "type": "scatterpolargl"
           }
          ],
          "scatterternary": [
           {
            "marker": {
             "colorbar": {
              "outlinewidth": 0,
              "ticks": ""
             }
            },
            "type": "scatterternary"
           }
          ],
          "surface": [
           {
            "colorbar": {
             "outlinewidth": 0,
             "ticks": ""
            },
            "colorscale": [
             [
              0,
              "#0d0887"
             ],
             [
              0.1111111111111111,
              "#46039f"
             ],
             [
              0.2222222222222222,
              "#7201a8"
             ],
             [
              0.3333333333333333,
              "#9c179e"
             ],
             [
              0.4444444444444444,
              "#bd3786"
             ],
             [
              0.5555555555555556,
              "#d8576b"
             ],
             [
              0.6666666666666666,
              "#ed7953"
             ],
             [
              0.7777777777777778,
              "#fb9f3a"
             ],
             [
              0.8888888888888888,
              "#fdca26"
             ],
             [
              1,
              "#f0f921"
             ]
            ],
            "type": "surface"
           }
          ],
          "table": [
           {
            "cells": {
             "fill": {
              "color": "#EBF0F8"
             },
             "line": {
              "color": "white"
             }
            },
            "header": {
             "fill": {
              "color": "#C8D4E3"
             },
             "line": {
              "color": "white"
             }
            },
            "type": "table"
           }
          ]
         },
         "layout": {
          "annotationdefaults": {
           "arrowcolor": "#2a3f5f",
           "arrowhead": 0,
           "arrowwidth": 1
          },
          "autotypenumbers": "strict",
          "coloraxis": {
           "colorbar": {
            "outlinewidth": 0,
            "ticks": ""
           }
          },
          "colorscale": {
           "diverging": [
            [
             0,
             "#8e0152"
            ],
            [
             0.1,
             "#c51b7d"
            ],
            [
             0.2,
             "#de77ae"
            ],
            [
             0.3,
             "#f1b6da"
            ],
            [
             0.4,
             "#fde0ef"
            ],
            [
             0.5,
             "#f7f7f7"
            ],
            [
             0.6,
             "#e6f5d0"
            ],
            [
             0.7,
             "#b8e186"
            ],
            [
             0.8,
             "#7fbc41"
            ],
            [
             0.9,
             "#4d9221"
            ],
            [
             1,
             "#276419"
            ]
           ],
           "sequential": [
            [
             0,
             "#0d0887"
            ],
            [
             0.1111111111111111,
             "#46039f"
            ],
            [
             0.2222222222222222,
             "#7201a8"
            ],
            [
             0.3333333333333333,
             "#9c179e"
            ],
            [
             0.4444444444444444,
             "#bd3786"
            ],
            [
             0.5555555555555556,
             "#d8576b"
            ],
            [
             0.6666666666666666,
             "#ed7953"
            ],
            [
             0.7777777777777778,
             "#fb9f3a"
            ],
            [
             0.8888888888888888,
             "#fdca26"
            ],
            [
             1,
             "#f0f921"
            ]
           ],
           "sequentialminus": [
            [
             0,
             "#0d0887"
            ],
            [
             0.1111111111111111,
             "#46039f"
            ],
            [
             0.2222222222222222,
             "#7201a8"
            ],
            [
             0.3333333333333333,
             "#9c179e"
            ],
            [
             0.4444444444444444,
             "#bd3786"
            ],
            [
             0.5555555555555556,
             "#d8576b"
            ],
            [
             0.6666666666666666,
             "#ed7953"
            ],
            [
             0.7777777777777778,
             "#fb9f3a"
            ],
            [
             0.8888888888888888,
             "#fdca26"
            ],
            [
             1,
             "#f0f921"
            ]
           ]
          },
          "colorway": [
           "#636efa",
           "#EF553B",
           "#00cc96",
           "#ab63fa",
           "#FFA15A",
           "#19d3f3",
           "#FF6692",
           "#B6E880",
           "#FF97FF",
           "#FECB52"
          ],
          "font": {
           "color": "#2a3f5f"
          },
          "geo": {
           "bgcolor": "white",
           "lakecolor": "white",
           "landcolor": "#E5ECF6",
           "showlakes": true,
           "showland": true,
           "subunitcolor": "white"
          },
          "hoverlabel": {
           "align": "left"
          },
          "hovermode": "closest",
          "mapbox": {
           "style": "light"
          },
          "paper_bgcolor": "white",
          "plot_bgcolor": "#E5ECF6",
          "polar": {
           "angularaxis": {
            "gridcolor": "white",
            "linecolor": "white",
            "ticks": ""
           },
           "bgcolor": "#E5ECF6",
           "radialaxis": {
            "gridcolor": "white",
            "linecolor": "white",
            "ticks": ""
           }
          },
          "scene": {
           "xaxis": {
            "backgroundcolor": "#E5ECF6",
            "gridcolor": "white",
            "gridwidth": 2,
            "linecolor": "white",
            "showbackground": true,
            "ticks": "",
            "zerolinecolor": "white"
           },
           "yaxis": {
            "backgroundcolor": "#E5ECF6",
            "gridcolor": "white",
            "gridwidth": 2,
            "linecolor": "white",
            "showbackground": true,
            "ticks": "",
            "zerolinecolor": "white"
           },
           "zaxis": {
            "backgroundcolor": "#E5ECF6",
            "gridcolor": "white",
            "gridwidth": 2,
            "linecolor": "white",
            "showbackground": true,
            "ticks": "",
            "zerolinecolor": "white"
           }
          },
          "shapedefaults": {
           "line": {
            "color": "#2a3f5f"
           }
          },
          "ternary": {
           "aaxis": {
            "gridcolor": "white",
            "linecolor": "white",
            "ticks": ""
           },
           "baxis": {
            "gridcolor": "white",
            "linecolor": "white",
            "ticks": ""
           },
           "bgcolor": "#E5ECF6",
           "caxis": {
            "gridcolor": "white",
            "linecolor": "white",
            "ticks": ""
           }
          },
          "title": {
           "x": 0.05
          },
          "xaxis": {
           "automargin": true,
           "gridcolor": "white",
           "linecolor": "white",
           "ticks": "",
           "title": {
            "standoff": 15
           },
           "zerolinecolor": "white",
           "zerolinewidth": 2
          },
          "yaxis": {
           "automargin": true,
           "gridcolor": "white",
           "linecolor": "white",
           "ticks": "",
           "title": {
            "standoff": 15
           },
           "zerolinecolor": "white",
           "zerolinewidth": 2
          }
         }
        },
        "title": {
         "text": "Global Alcohol Consumption Trend"
        },
        "transition": {
         "duration": 500
        },
        "xaxis": {
         "anchor": "y",
         "domain": [
          0,
          1
         ],
         "title": {
          "text": "Year"
         }
        },
        "yaxis": {
         "anchor": "x",
         "domain": [
          0,
          1
         ],
         "title": {
          "text": "Average Alcohol Consumption"
         }
        }
       }
      }
     },
     "metadata": {},
     "output_type": "display_data"
    },
    {
     "data": {
      "text/plain": [
       "<function __main__.update_plot(selected_year)>"
      ]
     },
     "execution_count": 208,
     "metadata": {},
     "output_type": "execute_result"
    }
   ],
   "source": [
    "# Ensuring the data is sorted by Year if it's not already\n",
    "global_trends_sorted = global_trends.sort_values('Year')\n",
    "\n",
    "# Function to update the plot\n",
    "def update_plot(selected_year):\n",
    "    filtered_data = global_trends_sorted[global_trends_sorted['Year'] <= selected_year]\n",
    "    \n",
    "    # Create a Plotly express line plot\n",
    "    fig = px.line(filtered_data, x='Year', y='Alchohol consumption', \n",
    "                  title='Global Alcohol Consumption Trend',\n",
    "                  labels={'Alchohol consumption': 'Average Alcohol Consumption'})\n",
    "    \n",
    "    # Update layout\n",
    "    fig.update_layout(transition_duration=500)\n",
    "    fig.show()\n",
    "\n",
    "# Create a slider\n",
    "slider = IntSlider(\n",
    "    value=global_trends_sorted['Year'].max(),\n",
    "    min=global_trends_sorted['Year'].min(),\n",
    "    max=global_trends_sorted['Year'].max(),\n",
    "    step=1,\n",
    "    description='Year:',\n",
    "    continuous_update=False\n",
    ")\n",
    "\n",
    "# Display the interactive slider and plot\n",
    "interact(update_plot, selected_year=slider)\n",
    "\n"
   ]
  },
  {
   "cell_type": "markdown",
   "metadata": {},
   "source": [
    "<h1>Correlation Analysis</h1>"
   ]
  },
  {
   "cell_type": "code",
   "execution_count": 209,
   "metadata": {},
   "outputs": [
    {
     "name": "stdout",
     "output_type": "stream",
     "text": [
      "                      Alchohol consumption  Mortality Rate\n",
      "Alchohol consumption              1.000000        0.766603\n",
      "Mortality Rate                    0.766603        1.000000\n"
     ]
    }
   ],
   "source": [
    "# Alchohol consumption and Mortality Rate columns (Repetative inf)\n",
    "correlation_analysis = df[['Alchohol consumption', 'Mortality Rate']].corr()\n",
    "\n",
    "print(correlation_analysis)\n"
   ]
  },
  {
   "cell_type": "code",
   "execution_count": 210,
   "metadata": {},
   "outputs": [
    {
     "data": {
      "image/png": "[encoded data removed]",
      "text/plain": [
       "<Figure size 1200x800 with 1 Axes>"
      ]
     },
     "metadata": {},
     "output_type": "display_data"
    },
    {
     "name": "stdout",
     "output_type": "stream",
     "text": [
      "Correlation coefficient: 0.77\n"
     ]
    }
   ],
   "source": [
    "df.dropna(subset=[\"Mortality Rate\"], inplace=True)\n",
    "\n",
    "x = comparative_analysis['Alchohol consumption']['mean']\n",
    "y = comparative_analysis['Mortality Rate']['mean']\n",
    "\n",
    "# comparative_analysis['Alchohol consumption']['mean']\n",
    "\n",
    "# Creating the scatter plot \n",
    "plt.figure(figsize=(12, 8))  \n",
    "plt.scatter(x, y, alpha=0.7, s=100, edgecolor='k', color='skyblue') \n",
    "\n",
    "# Adding a trend line\n",
    "m, b = np.polyfit(x, y, 1)  # coefficients of the line\n",
    "plt.plot(x, m*x + b, color='red', linewidth=3)  \n",
    "\n",
    "# Adding labels and title \n",
    "plt.title('Alcohol Consumption vs. Mortality Rate', fontsize=18)\n",
    "plt.xlabel('Alcohol Consumption', fontsize=14)\n",
    "plt.ylabel('Mortality Rate', fontsize=14)\n",
    "plt.grid(True)\n",
    "\n",
    "# the trend line\n",
    "plt.text(x.max()-5, m*x.max() + b + 5, f'Trend Line:\\nSlope = {m:.2f}', color='red', fontsize=12, \n",
    "         bbox=dict(facecolor='white', alpha=0.8, edgecolor='red'))\n",
    "\n",
    "plt.show()\n",
    "\n",
    "\n",
    "# Correlation c\n",
    "correlation = np.corrcoef(df['Alchohol consumption'], df['Mortality Rate'])[0, 1]\n",
    "print(f'Correlation coefficient: {correlation:.2f}')"
   ]
  },
  {
   "cell_type": "markdown",
   "metadata": {},
   "source": [
    "Based on the scatter plot, Although we see slightly upward trend, we can form the following hypothesis:\n",
    "\n",
    "The correlation coefficient is 0.77 which indicates it is moderately likely Alcohol consumption has relations to Mortality Rate. Correlation is not always result in  causation. Further studies and conditions are necessary to prove this hypothesis. Therefore, I failed to reject my hypothesis."
   ]
  },
  {
   "cell_type": "code",
   "execution_count": 221,
   "metadata": {},
   "outputs": [
    {
     "data": {
      "text/html": [
       "<div>\n",
       "<style scoped>\n",
       "    .dataframe tbody tr th:only-of-type {\n",
       "        vertical-align: middle;\n",
       "    }\n",
       "\n",
       "    .dataframe tbody tr th {\n",
       "        vertical-align: top;\n",
       "    }\n",
       "\n",
       "    .dataframe thead th {\n",
       "        text-align: right;\n",
       "    }\n",
       "</style>\n",
       "<table border=\"1\" class=\"dataframe\">\n",
       "  <thead>\n",
       "    <tr style=\"text-align: right;\">\n",
       "      <th></th>\n",
       "      <th>Country</th>\n",
       "      <th>Year</th>\n",
       "      <th>Alchohol consumption</th>\n",
       "      <th>Deaths due to Alchohol</th>\n",
       "      <th>Total Population</th>\n",
       "      <th>Mortality Rate</th>\n",
       "    </tr>\n",
       "  </thead>\n",
       "  <tbody>\n",
       "    <tr>\n",
       "      <th>0</th>\n",
       "      <td>Afghanistan</td>\n",
       "      <td>2010</td>\n",
       "      <td>0.210</td>\n",
       "      <td>491.64770</td>\n",
       "      <td>27803000</td>\n",
       "      <td>1.768326</td>\n",
       "    </tr>\n",
       "    <tr>\n",
       "      <th>1</th>\n",
       "      <td>Afghanistan</td>\n",
       "      <td>2015</td>\n",
       "      <td>0.210</td>\n",
       "      <td>521.93640</td>\n",
       "      <td>33361000</td>\n",
       "      <td>1.564511</td>\n",
       "    </tr>\n",
       "    <tr>\n",
       "      <th>2</th>\n",
       "      <td>Afghanistan</td>\n",
       "      <td>2018</td>\n",
       "      <td>0.210</td>\n",
       "      <td>574.54584</td>\n",
       "      <td>36161000</td>\n",
       "      <td>1.588855</td>\n",
       "    </tr>\n",
       "    <tr>\n",
       "      <th>8</th>\n",
       "      <td>Algeria</td>\n",
       "      <td>2000</td>\n",
       "      <td>0.580</td>\n",
       "      <td>624.86127</td>\n",
       "      <td>30561000</td>\n",
       "      <td>2.044636</td>\n",
       "    </tr>\n",
       "    <tr>\n",
       "      <th>9</th>\n",
       "      <td>Algeria</td>\n",
       "      <td>2005</td>\n",
       "      <td>0.810</td>\n",
       "      <td>776.61330</td>\n",
       "      <td>32744000</td>\n",
       "      <td>2.371773</td>\n",
       "    </tr>\n",
       "    <tr>\n",
       "      <th>...</th>\n",
       "      <td>...</td>\n",
       "      <td>...</td>\n",
       "      <td>...</td>\n",
       "      <td>...</td>\n",
       "      <td>...</td>\n",
       "      <td>...</td>\n",
       "    </tr>\n",
       "    <tr>\n",
       "      <th>879</th>\n",
       "      <td>Yemen</td>\n",
       "      <td>2000</td>\n",
       "      <td>0.790</td>\n",
       "      <td>809.17523</td>\n",
       "      <td>18371000</td>\n",
       "      <td>4.404634</td>\n",
       "    </tr>\n",
       "    <tr>\n",
       "      <th>880</th>\n",
       "      <td>Yemen</td>\n",
       "      <td>2005</td>\n",
       "      <td>0.340</td>\n",
       "      <td>717.49530</td>\n",
       "      <td>21010000</td>\n",
       "      <td>3.415018</td>\n",
       "    </tr>\n",
       "    <tr>\n",
       "      <th>881</th>\n",
       "      <td>Yemen</td>\n",
       "      <td>2010</td>\n",
       "      <td>0.180</td>\n",
       "      <td>670.63470</td>\n",
       "      <td>24383000</td>\n",
       "      <td>2.750419</td>\n",
       "    </tr>\n",
       "    <tr>\n",
       "      <th>882</th>\n",
       "      <td>Yemen</td>\n",
       "      <td>2015</td>\n",
       "      <td>0.055</td>\n",
       "      <td>708.64343</td>\n",
       "      <td>28139000</td>\n",
       "      <td>2.518367</td>\n",
       "    </tr>\n",
       "    <tr>\n",
       "      <th>883</th>\n",
       "      <td>Yemen</td>\n",
       "      <td>2018</td>\n",
       "      <td>0.051</td>\n",
       "      <td>827.26450</td>\n",
       "      <td>30415000</td>\n",
       "      <td>2.719923</td>\n",
       "    </tr>\n",
       "  </tbody>\n",
       "</table>\n",
       "<p>121 rows × 6 columns</p>\n",
       "</div>"
      ],
      "text/plain": [
       "         Country  Year  Alchohol consumption  Deaths due to Alchohol  \\\n",
       "0    Afghanistan  2010                 0.210               491.64770   \n",
       "1    Afghanistan  2015                 0.210               521.93640   \n",
       "2    Afghanistan  2018                 0.210               574.54584   \n",
       "8        Algeria  2000                 0.580               624.86127   \n",
       "9        Algeria  2005                 0.810               776.61330   \n",
       "..           ...   ...                   ...                     ...   \n",
       "879        Yemen  2000                 0.790               809.17523   \n",
       "880        Yemen  2005                 0.340               717.49530   \n",
       "881        Yemen  2010                 0.180               670.63470   \n",
       "882        Yemen  2015                 0.055               708.64343   \n",
       "883        Yemen  2018                 0.051               827.26450   \n",
       "\n",
       "     Total Population  Mortality Rate  \n",
       "0            27803000        1.768326  \n",
       "1            33361000        1.564511  \n",
       "2            36161000        1.588855  \n",
       "8            30561000        2.044636  \n",
       "9            32744000        2.371773  \n",
       "..                ...             ...  \n",
       "879          18371000        4.404634  \n",
       "880          21010000        3.415018  \n",
       "881          24383000        2.750419  \n",
       "882          28139000        2.518367  \n",
       "883          30415000        2.719923  \n",
       "\n",
       "[121 rows x 6 columns]"
      ]
     },
     "execution_count": 221,
     "metadata": {},
     "output_type": "execute_result"
    }
   ],
   "source": [
    "df[df['Alchohol consumption'] <=1]"
   ]
  },
  {
   "cell_type": "code",
   "execution_count": null,
   "metadata": {},
   "outputs": [],
   "source": []
  }
 ],
 "metadata": {
  "kernelspec": {
   "display_name": "Python 3 (ipykernel)",
   "language": "python",
   "name": "python3"
  },
  "language_info": {
   "codemirror_mode": {
    "name": "ipython",
    "version": 3
   },
   "file_extension": ".py",
   "mimetype": "text/x-python",
   "name": "python",
   "nbconvert_exporter": "python",
   "pygments_lexer": "ipython3",
   "version": "3.11.2"
  }
 },
 "nbformat": 4,
 "nbformat_minor": 2
}
