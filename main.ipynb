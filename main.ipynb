{
 "cells": [
  {
   "cell_type": "markdown",
   "metadata": {},
   "source": [
    "<h1># Part 1: Loading datasets, cleaning and joining datasets</h1>"
   ]
  },
  {
   "cell_type": "markdown",
   "metadata": {},
   "source": [
    "<h3>1.1 Loading Libraries</h3>"
   ]
  },
  {
   "cell_type": "code",
   "execution_count": null,
   "metadata": {},
   "outputs": [],
   "source": [
    "import pandas as pd\n",
    "import os\n",
    "import yaml\n",
    "import matplotlib.pyplot as plt\n",
    "from ipywidgets import interact\n",
    "import ipywidgets as widgets\n",
    "from IPython.display import display, clear_output\n",
    "import matplotlib.dates as mdates\n",
    "import numpy as np\n",
    "import seaborn as sns\n",
    "import plotly.graph_objs as go\n",
    "import plotly.express as px\n",
    "import statsmodels.api as sm"
   ]
  },
  {
   "cell_type": "markdown",
   "metadata": {},
   "source": [
    "<h3>1.2 Loading Datasets</h3>"
   ]
  },
  {
   "cell_type": "code",
   "execution_count": null,
   "metadata": {},
   "outputs": [],
   "source": [
    "def get_config():\n",
    "    with open(\"config.yaml\", \"r\") as my_config:\n",
    "        config = yaml.safe_load(my_config)\n",
    "    return config\n",
    "config = get_config()\n",
    "\n",
    "consumption_path = os.path.join(os.getcwd()+ '/datasets',config['consumption']) \n",
    "death_path       = os.path.join(os.getcwd()+ '/datasets',config['death'])\n",
    "population_path  = os.path.join(os.getcwd()+ '/datasets',config['population'])\n",
    "        \n",
    "\n",
    "df_consumption = pd.read_csv(consumption_path)\n",
    "df_death = pd.read_csv(death_path)\n",
    "df_population = pd.read_csv(population_path)\n"
   ]
  },
  {
   "cell_type": "markdown",
   "metadata": {},
   "source": [
    "# Data Inspetion"
   ]
  },
  {
   "cell_type": "code",
   "execution_count": null,
   "metadata": {},
   "outputs": [],
   "source": [
    "def df_inspetion1(df_consumption, df_death, df_population):\n",
    "\n",
    "    # Data Types\n",
    "    print(f'The types of df_consumption columns\\n{df_consumption.dtypes}')\n",
    "    print(f'\\nThe types of df_death columns\\n{df_death.dtypes}')\n",
    "    print(f'\\nThe types of df_death columns\\n{df_population.dtypes}')\n",
    "\n",
    "    # Check for missing data\n",
    "    print(df_consumption.isnull().sum())\n",
    "    print(df_death.isnull().sum())\n",
    "    print(df_population.isnull().sum())\n",
    "\n",
    "    \n",
    "\n",
    "df_inspetion1(df_consumption, df_death, df_population)   "
   ]
  },
  {
   "cell_type": "code",
   "execution_count": null,
   "metadata": {},
   "outputs": [],
   "source": [
    "df_consumption['Total alcohol consumption per capita (liters of pure alcohol, projected estimates, 15+ years of age)'].max()"
   ]
  },
  {
   "cell_type": "markdown",
   "metadata": {},
   "source": [
    "<h3>1.3: Data Cleaning</h3> \n",
    "\n"
   ]
  },
  {
   "cell_type": "code",
   "execution_count": null,
   "metadata": {},
   "outputs": [],
   "source": [
    "# Remove rows with NaN values ( NaN values can represent missing or undefined data)\n",
    "\n",
    "df_consumption = df_consumption.dropna()\n",
    "\n",
    "df_death = df_death.dropna()\n",
    "\n",
    "print(df_consumption)\n",
    "print(df_death)\n"
   ]
  },
  {
   "cell_type": "code",
   "execution_count": null,
   "metadata": {},
   "outputs": [],
   "source": [
    "#Check for duplicates across all columns, if duplicates found, delete one row\n",
    "df_duplicate_consumption = df_consumption[df_consumption.duplicated()]\n",
    "df_duplicate_death = df_death[df_death.duplicated()]\n",
    "df_duplicate_population = df_population[df_population.duplicated()]\n",
    "\n",
    "# Remove duplicate rows\n",
    "df_consumption = df_consumption.drop_duplicates()\n",
    "df_death = df_death.drop_duplicates()\n",
    "df_population = df_population.drop_duplicates()\n",
    "\n",
    "# Ensure 'Year' is of integer type\n",
    "df_consumption['Year'] = df_consumption['Year'].astype(int)\n",
    "df_death['Year'] = df_death['Year'].astype(int)\n",
    "df_population['Year'] = df_population['Year'].astype(int)"
   ]
  },
  {
   "cell_type": "code",
   "execution_count": null,
   "metadata": {},
   "outputs": [],
   "source": [
    "#Rename the Title Entity to Country\n",
    "df_consumption.rename(columns = {'Entity':'Country','Total alcohol consumption per capita (liters of pure alcohol, projected estimates, 15+ years of age)':'Alchohol consumption'\n",
    "                                 },inplace = True)\n",
    "df_consumption\n",
    "#Rename the Title Entity to Country\n",
    "df_death.rename(columns={'Entity':'Country','Deaths that are from all causes attributed to alcohol use, in both sexes aged all ages':'Deaths due to Alchohol'},inplace = True)\n",
    "#df_death"
   ]
  },
  {
   "cell_type": "code",
   "execution_count": null,
   "metadata": {},
   "outputs": [],
   "source": [
    "#filter related rows from each datasets(for merging 3 datasets based on Year and country I had to remove years except 2000,2005,2010,2015,2018)\n",
    "df_death = df_death[df_death['Year'].isin([2000, 2005, 2010, 2015, 2018])]\n",
    "df_death.head()\n"
   ]
  },
  {
   "cell_type": "code",
   "execution_count": null,
   "metadata": {},
   "outputs": [],
   "source": [
    "#creating a whole new cleaned dataset before merging so that it could be easy to understand\n",
    "new_columns = ['Country','Code','Year','Deaths due to Alchohol']\n",
    "\n",
    "df_new_death = df_death[new_columns]\n",
    "\n",
    "df_new_death.to_csv('df_new_death.csv', index=False)"
   ]
  },
  {
   "cell_type": "code",
   "execution_count": null,
   "metadata": {},
   "outputs": [],
   "source": [
    "df_new_death = df_new_death.reset_index().drop(columns='index')\n",
    "df_death = df_death.reset_index().drop(columns='index')\n",
    "df_consumption = df_consumption.reset_index().drop(columns='index')"
   ]
  },
  {
   "cell_type": "markdown",
   "metadata": {},
   "source": [
    "<h3>1.4: Merging Datasets</h3>\n",
    "\n",
    "Put eveythig in functions\n",
    "\n",
    "MOre explanation"
   ]
  },
  {
   "cell_type": "code",
   "execution_count": null,
   "metadata": {},
   "outputs": [],
   "source": [
    "#merge 2 datasets(Merged BASED on Country and Year column)\n",
    "df_merge = pd.merge(df_consumption,df_new_death, on=['Country','Year', 'Code'], how='inner')\n",
    "df_merge.head()"
   ]
  },
  {
   "cell_type": "code",
   "execution_count": null,
   "metadata": {},
   "outputs": [],
   "source": [
    "# Merge population dataset with the main dataset(to create Mortality for each individual country ,total population is needed)\n",
    "\n",
    "df = pd.merge(df_merge,df_population, on=['Country','Year'], how='inner')\n",
    "df"
   ]
  },
  {
   "cell_type": "code",
   "execution_count": null,
   "metadata": {},
   "outputs": [],
   "source": [
    "#remove Column name Code (as i already have the Country column so i dont need the code Column)\n",
    "\n",
    "df = df.drop(columns='Code')\n",
    "df"
   ]
  },
  {
   "cell_type": "code",
   "execution_count": null,
   "metadata": {},
   "outputs": [],
   "source": [
    "#remove NaN value\n",
    "df.dropna(how='any',inplace=True)\n",
    "df.head()"
   ]
  },
  {
   "cell_type": "code",
   "execution_count": null,
   "metadata": {},
   "outputs": [],
   "source": [
    "#save dataset\n",
    "df.to_csv('df.csv')"
   ]
  },
  {
   "cell_type": "code",
   "execution_count": null,
   "metadata": {},
   "outputs": [],
   "source": [
    "#Remove World from df because my search is based on country\n",
    "\n",
    "df = df[df[\"Country\"] != 'World']"
   ]
  },
  {
   "cell_type": "markdown",
   "metadata": {},
   "source": [
    "# Presenting section\n"
   ]
  },
  {
   "cell_type": "code",
   "execution_count": null,
   "metadata": {},
   "outputs": [],
   "source": [
    "# Step 1: Calculate Mortality Rate due to Alcohol per 100,000 population\n",
    "df['Mortality Rate'] = (df['Deaths due to Alchohol'] / df['Total Population']) * 100000 # Explain this in-detail\n",
    "\n",
    "# To view the first ffive rows of the transformed main DataFrame\n",
    "df.head()"
   ]
  },
  {
   "cell_type": "code",
   "execution_count": null,
   "metadata": {},
   "outputs": [],
   "source": [
    "# Calculate mean alcohol consumption and mean mortality rate per year\n",
    "\n",
    "yearly_trends = df.groupby('Year').agg({\n",
    "    'Alchohol consumption': 'mean',\n",
    "    'Mortality Rate': 'mean'\n",
    "}).reset_index()\n",
    "\n",
    "# To view the yearly trends\n",
    "yearly_trends.head()\n"
   ]
  },
  {
   "cell_type": "code",
   "execution_count": null,
   "metadata": {},
   "outputs": [],
   "source": [
    "plt.figure(figsize=(18, 6))\n",
    "\n",
    "# Alcohol Consumption Plot\n",
    "plt.subplot(1, 2, 1)\n",
    "plt.plot(yearly_trends_filtered['Year'], yearly_trends_filtered['Alchohol consumption'], marker='o', linestyle='-', color='blue')\n",
    "plt.title('Average Alcohol Consumption Over Time')\n",
    "plt.xlabel('Year')\n",
    "plt.ylabel('Average Alcohol Consumption (per Litre)')\n",
    "plt.xticks(yearly_trends_filtered['Year'].unique())  # showing  filtered years on the x-axis\n",
    "plt.grid(True)\n",
    "\n",
    "# Mortality Rate Plot\n",
    "plt.subplot(1, 2, 2)\n",
    "plt.plot(yearly_trends_filtered['Year'], yearly_trends_filtered['Mortality Rate'], marker='s', linestyle='-', color='red')\n",
    "plt.title('Average Mortality Rate Over Time')\n",
    "plt.xlabel('Year')\n",
    "plt.ylabel('Mortality Rate (per 100,000 population)')\n",
    "plt.xticks(yearly_trends_filtered['Year'].unique())  # showing  filtered years on the x-axis\n",
    "plt.grid(True)\n",
    "\n",
    "plt.tight_layout()  \n",
    "plt.show()  \n"
   ]
  },
  {
   "cell_type": "markdown",
   "metadata": {},
   "source": [
    "The graph shows alcohol consumption and mortality rate due to alcohol. this graph gives some idea about the alchohol consumption and death related to alchohol consumption based on Year of 2000,2005,2010,2015,2018."
   ]
  },
  {
   "cell_type": "markdown",
   "metadata": {},
   "source": [
    "Data Analysis"
   ]
  },
  {
   "cell_type": "code",
   "execution_count": null,
   "metadata": {},
   "outputs": [],
   "source": [
    "# 1. Descriptive Statistics for alcohol consumption and mortality rates\n",
    "\n",
    "descriptive_stats = df[['Alchohol consumption', 'Mortality Rate']].describe()\n",
    "\n",
    "# 2. Correlation Analysis between alcohol consumption and mortality rates\n",
    "correlation_analysis = df[['Alchohol consumption', 'Mortality Rate']].corr()\n",
    "\n",
    "# 3. Comparative Analysis: Identifying countries with significant changes\n",
    "# calculate the mean and standard deviation for alcohol consumption and mortality rates for each country\n",
    "comparative_analysis = df.groupby('Country').agg({\n",
    "    'Alchohol consumption': ['mean', 'std'],\n",
    "    'Mortality Rate': ['mean', 'std']\n",
    "}).reset_index()\n",
    "\n",
    "# print the descriptive statistics\n",
    "print(\"data comprehension of Alchohol consumptiona and mortality rate\")\n",
    "print(descriptive_stats)\n",
    "\n",
    "# print the correlation analysis\n",
    "print(\"output for correlation\")\n",
    "print(correlation_analysis)\n",
    "\n",
    "# print the comparative analysis for the first few countries\n",
    "print(comparative_analysis.head())\n"
   ]
  },
  {
   "cell_type": "code",
   "execution_count": null,
   "metadata": {},
   "outputs": [],
   "source": [
    "comparative_analysis['Alchohol consumption']['mean']"
   ]
  },
  {
   "cell_type": "markdown",
   "metadata": {},
   "source": [
    "# Data visualization with Histogram and qq plot"
   ]
  },
  {
   "cell_type": "code",
   "execution_count": null,
   "metadata": {},
   "outputs": [],
   "source": [
    "# distribution with a histogram and a Q-Q plot\n",
    "def check_distribution(data, column):\n",
    "    \"\"\"\n",
    "    This function plots a histogram and a Q-Q plot for the given data column to check the distribution.\n",
    "    \n",
    "    \"\"\"\n",
    "    # Histogram\n",
    "    sns.histplot(data[column], kde=True)\n",
    "    plt.title(f'Histogram of {column}')\n",
    "    plt.xlabel(column)\n",
    "    plt.ylabel('Frequency')\n",
    "    plt.show()\n",
    "\n",
    "    # Q-Q plot\n",
    "    fig = plt.figure()\n",
    "    sm.qqplot(data[column], line='s', ax=fig.add_subplot(111)) # 's' denotes standardized line\n",
    "    plt.title(f'Q-Q Plot of {column}')\n",
    "    plt.show()\n",
    "\n",
    "\n",
    "\n",
    "x = 'Alchohol consumption'\n",
    "y = 'Mortality Rate'\n",
    "\n",
    "check_distribution(df, x)\n"
   ]
  },
  {
   "cell_type": "markdown",
   "metadata": {},
   "source": [
    "Histogram: \n",
    "a\n",
    "The chart shows that more people drink a small amount of alcohol, and since this distribution is rightly skwed fewer people drinks too muchg alchohol more than 13 litre pure alchohol per year. \n",
    "\n",
    "QQ plot:\n",
    "\n",
    "This Q-Q (quantile-quantile) plot compares the distribution of alcohol consumption data to a normal distribution. Points plotted represent the quantiles of alcohol consumption against the theoretical quantiles of a normal distribution. The red line serves as a reference for where the points would lie if the data were perfectly normal. The points follow the line closely in the middle, suggesting that the median data is normally distributed. However, at both ends, especially the right end, the points deviate from the line, indicating that the data has heavier tails than a normal distribution. This suggests that the distribution of alcohol consumption is right-skewed with some higher extreme values.\n"
   ]
  },
  {
   "cell_type": "code",
   "execution_count": null,
   "metadata": {},
   "outputs": [],
   "source": [
    "sample_countries = config['countires_to_draw']\n",
    "sample_data = comparative_analysis[comparative_analysis['Country'].isin(sample_countries)]\n",
    "\n",
    "# the figure and axes\n",
    "fig, ax = plt.subplots(1, 2, figsize=(16, 6))\n",
    "\n",
    "# Alcohol Consumption Plot\n",
    "for country in sample_countries:\n",
    "    country_data = sample_data[sample_data['Country'] == country]\n",
    "    ax[0].errorbar(country, country_data['Alchohol consumption']['mean'], yerr=country_data['Alchohol consumption']['std'], fmt='o', capsize=5, label=country)\n",
    "\n",
    "ax[0].set_title('Average Alcohol Consumption')\n",
    "ax[0].set_xlabel('Country')\n",
    "ax[0].set_ylabel('Average Alcohol Consumption (per Litre)')\n",
    "ax[0].set_xticklabels(sample_countries, rotation=45)\n",
    "ax[0].grid(True)\n",
    "ax[0].legend(title='Country')\n",
    "\n",
    "# Mortality Rate Plot\n",
    "for country in sample_countries:\n",
    "    country_data = sample_data[sample_data['Country'] == country]\n",
    "    ax[1].errorbar(country, country_data['Mortality Rate']['mean'], yerr=country_data['Mortality Rate']['std'], fmt='s', capsize=5, label=country)\n",
    "\n",
    "ax[1].set_title('Average Mortality Rate')\n",
    "ax[1].set_xlabel('Country')\n",
    "ax[1].set_ylabel('Mortality Rate (per 100,000 population)')\n",
    "ax[1].set_xticklabels(sample_countries, rotation=45)\n",
    "ax[1].grid(True)\n",
    "\n",
    "plt.tight_layout()\n",
    "plt.show()\n"
   ]
  },
  {
   "cell_type": "markdown",
   "metadata": {},
   "source": [
    "First plot:\n",
    "Finland shows the highest average alcohol consumption per liter, with France following closely. The United States and the Netherlands have lower averages, while Iran has the lowest. Error bars indicate variability with the widest seen in France's data.\n",
    "\n",
    "Second Plot:\n",
    "The second graph presents the average mortality rate per 100,000 population with the United States having the highest rate, and the lowest observed in Iran. Finland and France have similar mortality rates, and the Netherlands' rate is slightly lower than these two. The error bars, representing standard deviation, show the uncertainty around the mean estimates, with the United States showing significant variability in mortality rate data."
   ]
  },
  {
   "cell_type": "markdown",
   "metadata": {},
   "source": [
    "<h1>Time series analysis</h1>"
   ]
  },
  {
   "cell_type": "code",
   "execution_count": null,
   "metadata": {},
   "outputs": [],
   "source": [
    "global_trends = df.groupby('Year').agg({\n",
    "    'Alchohol consumption': 'mean',\n",
    "    'Mortality Rate': 'mean'\n",
    "}).reset_index()"
   ]
  },
  {
   "cell_type": "code",
   "execution_count": null,
   "metadata": {},
   "outputs": [],
   "source": [
    "# Plotting Global Trends\n",
    "plt.figure(figsize=(14, 10))\n",
    "\n",
    "# Global Alcohol Consumption Trend\n",
    "plt.subplot(2, 1, 1)  # 2 rows, 1 column, 1st subplot\n",
    "plt.plot(global_trends['Year'], global_trends['Alchohol consumption'], marker='o', linestyle='-', color='blue',label='Alcohol Consumption')\n",
    "plt.title('Global Alcohol Consumption Trend')\n",
    "plt.xticks(range(2000,2020))\n",
    "plt.ylabel('Average Alcohol Consumption (per litre)')\n",
    "plt.grid(True)\n",
    "plt.legend()\n",
    "\n",
    "# Global Mortality Rate Trend\n",
    "plt.subplot(2, 1, 2)  # 2 rows, 1 column, 2nd subplot\n",
    "plt.plot(global_trends['Year'], global_trends['Mortality Rate'], marker='s', linestyle='-', color='red',label='Mortality Rate')\n",
    "plt.title('Global Mortality Rate Trend')\n",
    "plt.xlabel('Year')\n",
    "plt.xticks(range(2000,2020))\n",
    "plt.ylabel('Mortality Rate (per 100,000 population)')\n",
    "plt.grid(True)\n",
    "plt.legend()\n",
    "plt.tight_layout()\n",
    "plt.show()\n",
    "\n",
    "# Time Series Analysis for a Specific Country (Example: United States)\n",
    "country_name = 'United States'\n",
    "country_data = df[df['Country'] == country_name]\n",
    "\n",
    "# Plotting Country-Specific Trends\n",
    "plt.figure(figsize=(14, 10))\n",
    "\n",
    "# Country-Specific Alcohol Consumption Trend\n",
    "plt.subplot(2, 1, 1)  # 2 rows, 1 column, 1st subplot\n",
    "plt.plot(country_data['Year'], country_data['Alchohol consumption'], marker='o', linestyle='-', color='green', label='Us Alcohol Consumption')\n",
    "plt.title(f'{country_name} Alcohol Consumption Trend')\n",
    "plt.xticks(range(2000,2020))\n",
    "plt.ylabel('Alcohol Consumption (per Litre)')\n",
    "plt.legend()\n",
    "plt.grid(True)\n",
    "\n",
    "# Country-Specific Mortality Rate Trend\n",
    "plt.subplot(2, 1, 2)  # 2 rows, 1 column, 2nd subplot\n",
    "plt.plot(country_data['Year'], country_data['Mortality Rate'], marker='s', linestyle='-', color='purple',label='Us Mortality Rate')\n",
    "plt.title(f'{country_name} Mortality Rate Trend')\n",
    "plt.xlabel('Year')\n",
    "plt.xticks(range(2000,2020))\n",
    "plt.ylabel('Mortality Rate (per 100,000 population)')\n",
    "plt.grid(True)\n",
    "plt.legend()\n",
    "plt.tight_layout()\n",
    "plt.show()"
   ]
  },
  {
   "cell_type": "markdown",
   "metadata": {},
   "source": [
    "Global Alcohol Consumption Trend: \n",
    "This graph shows a rise in average global alcohol consumption reaching its peak in 2005, followed by a consistent decrease up to 2018.\n",
    "\n",
    "Global Mortality Rate Trend: \n",
    "This graph displays a sharp increase in the global mortality rate up to 2005, stability until 2010, then a significant decline until 2015, with a minor uptick towards 2018."
   ]
  },
  {
   "cell_type": "markdown",
   "metadata": {},
   "source": [
    "<h1>Correlation Analysis</h1>"
   ]
  },
  {
   "cell_type": "code",
   "execution_count": null,
   "metadata": {},
   "outputs": [],
   "source": [
    "# Alchohol consumption and Mortality Rate columns \n",
    "correlation_analysis = df[['Alchohol consumption', 'Mortality Rate']].corr()\n",
    "\n",
    "print(correlation_analysis)\n"
   ]
  },
  {
   "cell_type": "markdown",
   "metadata": {},
   "source": [
    "Heatmap"
   ]
  },
  {
   "cell_type": "code",
   "execution_count": null,
   "metadata": {},
   "outputs": [],
   "source": [
    "sns.heatmap(correlation_analysis, annot=True, fmt=\".2f\")"
   ]
  },
  {
   "cell_type": "markdown",
   "metadata": {},
   "source": [
    "The heatmap shows a strong positive correlation of 0.77 between alcohol consumption and mortality rate, indicating that higher alcohol consumption is associated with higher mortality rates."
   ]
  },
  {
   "cell_type": "code",
   "execution_count": null,
   "metadata": {},
   "outputs": [],
   "source": [
    "df.dropna(subset=[\"Mortality Rate\"], inplace=True)\n",
    "\n",
    "x = comparative_analysis['Alchohol consumption']['mean']\n",
    "y = comparative_analysis['Mortality Rate']['mean']\n",
    "\n",
    "\n",
    "# Creating the scatter plot \n",
    "plt.figure(figsize=(12, 8))  \n",
    "plt.scatter(x, y, alpha=0.7, s=100, edgecolor='k', color='skyblue') \n",
    "\n",
    "# Adding a trend line\n",
    "m, b = np.polyfit(x, y, 1)  # coefficients of the line\n",
    "plt.plot(x, m*x + b, color='red', linewidth=3)  \n",
    "\n",
    "# Adding labels and title \n",
    "plt.title('Alcohol Consumption vs. Mortality Rate', fontsize=18)\n",
    "plt.xlabel('Alcohol Consumption', fontsize=14)\n",
    "plt.ylabel('Mortality Rate', fontsize=14)\n",
    "plt.grid(True)\n",
    "\n",
    "# the trend line\n",
    "plt.text(x.max()-5, m*x.max() + b + 5, f'Trend Line:\\nSlope = {m:.2f}', color='red', fontsize=12, \n",
    "         bbox=dict(facecolor='white', alpha=0.8, edgecolor='red'))\n",
    "\n",
    "plt.show()\n",
    "\n",
    "\n",
    "# Correlation c\n",
    "correlation = np.corrcoef(df['Alchohol consumption'], df['Mortality Rate'])[0, 1]\n",
    "print(f'Correlation coefficient: {correlation:.2f}')"
   ]
  },
  {
   "cell_type": "markdown",
   "metadata": {},
   "source": [
    "Based on the scatter plot, Although we see slightly upward trend, we can form the following hypothesis:\n",
    "\n",
    "The correlation coefficient is 0.77 which indicates it is moderately likely Alcohol consumption has relations to Mortality Rate. Howerver, Correlation is not always result in  causation. Based on my research I have found out that some of the Islamic countries does not drink Alchohol as much as others."
   ]
  },
  {
   "cell_type": "markdown",
   "metadata": {},
   "source": [
    "<h1>Final Outcome : </h1>"
   ]
  },
  {
   "cell_type": "markdown",
   "metadata": {},
   "source": [
    "The study shows that in places where people drink more alcohol, there are usually more deaths related to drinking. This information helps to see that drinking a lot of alcohol can be bad for people's health everywhere in the world. The study checked if this idea was true by looking at the numbers, which is important for making health rules to help keep people safe from drinking too much.Further studies and conditions are necessary to prove this hypothesis."
   ]
  },
  {
   "cell_type": "markdown",
   "metadata": {},
   "source": [
    "For my curiosity "
   ]
  },
  {
   "cell_type": "markdown",
   "metadata": {},
   "source": [
    "Interactive plot Based on Year,top 10 countries which have maximum deaths"
   ]
  },
  {
   "cell_type": "code",
   "execution_count": null,
   "metadata": {},
   "outputs": [],
   "source": [
    "\n",
    "df['Death Rate per 100k'] = (df['Deaths due to Alchohol'] / df['Total Population']) * 100000\n",
    "\n",
    "\n",
    "def get_top_10_for_year(df, year):\n",
    "    return df[df['Year'] == year].nlargest(10, 'Death Rate per 100k')[['Country', 'Death Rate per 100k']]\n",
    "\n",
    "# Dropdown menu for selecting a year\n",
    "year_dropdown = widgets.Dropdown(\n",
    "    options=sorted(df['Year'].unique()),  # Unique years in the dataset\n",
    "    value=sorted(df['Year'].unique())[0],  # Default value\n",
    "    description='Year:',\n",
    "    disabled=False,\n",
    ")\n",
    "\n",
    "# Function to handle dropdown value change\n",
    "def dropdown_eventhandler(change):\n",
    "    clear_output(wait=True)\n",
    "    display(year_dropdown)\n",
    "    selected_year = change.new\n",
    "    \n",
    "    top_countries = get_top_10_for_year(df, selected_year)\n",
    "    \n",
    "    # Plotting\n",
    "    plt.figure(figsize=(10, 6))\n",
    "    plt.bar(top_countries['Country'], top_countries['Death Rate per 100k'], color='skyblue')\n",
    "    plt.ylabel('Death Rate per 100k')\n",
    "    plt.xticks(rotation=45, ha='right')  \n",
    "    plt.title(f'Top 10 Countries by Death Rate in {selected_year}')\n",
    "    plt.show()\n",
    "\n",
    "\n",
    "# Bind the event handler to the dropdown\n",
    "year_dropdown.observe(dropdown_eventhandler, names='value')\n",
    "\n",
    "# Display the dropdown\n",
    "display(year_dropdown)\n",
    "\n"
   ]
  }
 ],
 "metadata": {
  "kernelspec": {
   "display_name": "Python 3 (ipykernel)",
   "language": "python",
   "name": "python3"
  },
  "language_info": {
   "codemirror_mode": {
    "name": "ipython",
    "version": 3
   },
   "file_extension": ".py",
   "mimetype": "text/x-python",
   "name": "python",
   "nbconvert_exporter": "python",
   "pygments_lexer": "ipython3",
   "version": "3.11.5"
  }
 },
 "nbformat": 4,
 "nbformat_minor": 2
}
